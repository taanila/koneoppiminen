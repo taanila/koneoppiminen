{
 "cells": [
  {
   "cell_type": "code",
   "execution_count": 1,
   "id": "1e8e9b3b",
   "metadata": {},
   "outputs": [
    {
     "name": "stdout",
     "output_type": "stream",
     "text": [
      "Päivitetty 2021-11-03 10:21:38.081865\n"
     ]
    }
   ],
   "source": [
    "from datetime import datetime\n",
    "print(f'Päivitetty {datetime.now()}')"
   ]
  },
  {
   "cell_type": "markdown",
   "id": "a828ef28",
   "metadata": {},
   "source": [
    "# Luottokorttipetokset\n",
    "\n",
    "Data löytyy lähteestä: https://www.kaggle.com/mlg-ulb/creditcardfraud\n",
    "\n",
    "Datassa ei ole alkuperäisiä selittäviä muuttujia, vaan niistä pääkomponenttianalyysilla muodostetut uudet muuttujat. Class-muuttuja on selitettävä/ennustettava muuttuja (0 = 'ei petos', 1 = 'petos').\n",
    "\n",
    "Petoksia on vähän suhteessa kaikkiin luottokorttitapahtumiin. Tämän vuoksi data on syytä tasapainottaa.\n",
    "\n",
    "Huomautus! Mukana on useita funktioita (sample, train_test_split sekä käytetyt mallit), joille voisin antaa random_state-parametrille kiinteän arvon. Koska en ole antanut kiinteää arvoa, niin eri suorituskerroilla saan toisistaan poikkeavia tuloksia."
   ]
  },
  {
   "cell_type": "code",
   "execution_count": 2,
   "id": "8abc00b8",
   "metadata": {},
   "outputs": [],
   "source": [
    "import pandas as pd\n",
    "import matplotlib.pyplot as plt\n",
    "import seaborn as sns\n",
    "\n",
    "# train_test_split osaa jakaa datan opetusdataan ja testidataan\n",
    "from sklearn.model_selection import train_test_split\n",
    "\n",
    "# Käytettävät mallit\n",
    "from sklearn.linear_model import LogisticRegression\n",
    "from sklearn.tree import DecisionTreeClassifier\n",
    "from sklearn.ensemble import RandomForestClassifier\n",
    "from sklearn.ensemble import GradientBoostingClassifier\n",
    "\n",
    "# Mallien hyvyyden arviointiin\n",
    "from sklearn.metrics import accuracy_score\n",
    "from sklearn.metrics import plot_confusion_matrix\n",
    "from sklearn.metrics import classification_report\n",
    "\n",
    "%matplotlib inline"
   ]
  },
  {
   "cell_type": "code",
   "execution_count": 3,
   "id": "8688541c",
   "metadata": {},
   "outputs": [
    {
     "name": "stdout",
     "output_type": "stream",
     "text": [
      "<class 'pandas.core.frame.DataFrame'>\n",
      "RangeIndex: 284807 entries, 0 to 284806\n",
      "Data columns (total 31 columns):\n",
      " #   Column  Non-Null Count   Dtype  \n",
      "---  ------  --------------   -----  \n",
      " 0   Time    284807 non-null  float64\n",
      " 1   V1      284807 non-null  float64\n",
      " 2   V2      284807 non-null  float64\n",
      " 3   V3      284807 non-null  float64\n",
      " 4   V4      284807 non-null  float64\n",
      " 5   V5      284807 non-null  float64\n",
      " 6   V6      284807 non-null  float64\n",
      " 7   V7      284807 non-null  float64\n",
      " 8   V8      284807 non-null  float64\n",
      " 9   V9      284807 non-null  float64\n",
      " 10  V10     284807 non-null  float64\n",
      " 11  V11     284807 non-null  float64\n",
      " 12  V12     284807 non-null  float64\n",
      " 13  V13     284807 non-null  float64\n",
      " 14  V14     284807 non-null  float64\n",
      " 15  V15     284807 non-null  float64\n",
      " 16  V16     284807 non-null  float64\n",
      " 17  V17     284807 non-null  float64\n",
      " 18  V18     284807 non-null  float64\n",
      " 19  V19     284807 non-null  float64\n",
      " 20  V20     284807 non-null  float64\n",
      " 21  V21     284807 non-null  float64\n",
      " 22  V22     284807 non-null  float64\n",
      " 23  V23     284807 non-null  float64\n",
      " 24  V24     284807 non-null  float64\n",
      " 25  V25     284807 non-null  float64\n",
      " 26  V26     284807 non-null  float64\n",
      " 27  V27     284807 non-null  float64\n",
      " 28  V28     284807 non-null  float64\n",
      " 29  Amount  284807 non-null  float64\n",
      " 30  Class   284807 non-null  int64  \n",
      "dtypes: float64(30), int64(1)\n",
      "memory usage: 67.4 MB\n"
     ]
    }
   ],
   "source": [
    "df = pd.read_csv('creditcard.csv')\n",
    "df.info()"
   ]
  },
  {
   "cell_type": "code",
   "execution_count": 4,
   "id": "9c6f4eb5",
   "metadata": {},
   "outputs": [
    {
     "data": {
      "text/plain": [
       "0    284315\n",
       "1       492\n",
       "Name: Class, dtype: int64"
      ]
     },
     "execution_count": 4,
     "metadata": {},
     "output_type": "execute_result"
    }
   ],
   "source": [
    "df['Class'].value_counts()"
   ]
  },
  {
   "cell_type": "markdown",
   "id": "00ae8593",
   "metadata": {},
   "source": [
    "Selitettävän/ennustettavan muuttujan jakauma on epätasapainoinen.\n",
    "\n",
    "Tasapainotetaan data ottamalla mukaan vain 738 (1.5 * 492) henkilön satunnaisotos isommasta ryhmästä."
   ]
  },
  {
   "cell_type": "code",
   "execution_count": 5,
   "id": "9ca599b9",
   "metadata": {},
   "outputs": [
    {
     "data": {
      "text/plain": [
       "0    738\n",
       "1    492\n",
       "Name: Class, dtype: int64"
      ]
     },
     "execution_count": 5,
     "metadata": {},
     "output_type": "execute_result"
    }
   ],
   "source": [
    "df_tasap = df[df['Class']==1].append(df[df['Class']==0].sample(738), ignore_index = True)\n",
    "df_tasap['Class'].value_counts()"
   ]
  },
  {
   "cell_type": "code",
   "execution_count": 6,
   "id": "c836ecc4",
   "metadata": {},
   "outputs": [],
   "source": [
    "# Selittävät muuttujat\n",
    "X = df_tasap.drop('Class', axis = 1)\n",
    "\n",
    "# Selitettävä/ennustettava muuttuja\n",
    "y = df_tasap['Class']"
   ]
  },
  {
   "cell_type": "code",
   "execution_count": 7,
   "id": "9225a439",
   "metadata": {},
   "outputs": [],
   "source": [
    "# Jako opetus- ja testidataan\n",
    "X_train, X_test, y_train, y_test = train_test_split(X, y)"
   ]
  },
  {
   "cell_type": "code",
   "execution_count": 8,
   "id": "49415dc4",
   "metadata": {},
   "outputs": [
    {
     "name": "stderr",
     "output_type": "stream",
     "text": [
      "C:\\Users\\taaak\\Anaconda3\\lib\\site-packages\\sklearn\\linear_model\\_logistic.py:763: ConvergenceWarning: lbfgs failed to converge (status=1):\n",
      "STOP: TOTAL NO. of ITERATIONS REACHED LIMIT.\n",
      "\n",
      "Increase the number of iterations (max_iter) or scale the data as shown in:\n",
      "    https://scikit-learn.org/stable/modules/preprocessing.html\n",
      "Please also refer to the documentation for alternative solver options:\n",
      "    https://scikit-learn.org/stable/modules/linear_model.html#logistic-regression\n",
      "  n_iter_i = _check_optimize_result(\n"
     ]
    }
   ],
   "source": [
    "# Mallien sovitus\n",
    "\n",
    "malli1 = LogisticRegression()\n",
    "malli1.fit(X_train, y_train)\n",
    "\n",
    "malli2 = DecisionTreeClassifier(max_depth = 2)\n",
    "malli2.fit(X_train, y_train)\n",
    "\n",
    "malli3 = RandomForestClassifier(max_depth = 2)\n",
    "malli3.fit(X_train, y_train)\n",
    "\n",
    "malli4 = GradientBoostingClassifier(max_depth = 2)\n",
    "malli4.fit(X_train, y_train)\n",
    "\n",
    "\n",
    "# Mallien antamat ennusteet opetus- ja testidatalle\n",
    "\n",
    "y_train_malli1 = malli1.predict(X_train)\n",
    "y_test_malli1 = malli1.predict(X_test)\n",
    "\n",
    "y_train_malli2 = malli2.predict(X_train)\n",
    "y_test_malli2 = malli2.predict(X_test)\n",
    "\n",
    "y_train_malli3 = malli3.predict(X_train)\n",
    "y_test_malli3 = malli3.predict(X_test)\n",
    "\n",
    "y_train_malli4 = malli4.predict(X_train)\n",
    "y_test_malli4 = malli4.predict(X_test)"
   ]
  },
  {
   "cell_type": "code",
   "execution_count": 9,
   "id": "2efb0a84",
   "metadata": {},
   "outputs": [
    {
     "name": "stdout",
     "output_type": "stream",
     "text": [
      "Logistinen regressio 0.9533622559652929\n",
      "Päätöspuu 0.9392624728850325\n",
      "Satunnaismetsä 0.9360086767895879\n",
      "GradienBoosting 0.9859002169197397\n"
     ]
    }
   ],
   "source": [
    "# Ennustetarkkuudet opetusdatalle\n",
    "\n",
    "print('Logistinen regressio', accuracy_score(y_train, y_train_malli1))\n",
    "print('Päätöspuu', accuracy_score(y_train, y_train_malli2))\n",
    "print('Satunnaismetsä', accuracy_score(y_train, y_train_malli3))\n",
    "print('GradienBoosting', accuracy_score(y_train, y_train_malli4))"
   ]
  },
  {
   "cell_type": "code",
   "execution_count": 10,
   "id": "6b4c4ed6",
   "metadata": {},
   "outputs": [
    {
     "name": "stdout",
     "output_type": "stream",
     "text": [
      "Logistinen regressio 0.948051948051948\n",
      "Päätöspuu 0.9415584415584416\n",
      "Satunnaismetsä 0.9448051948051948\n",
      "GradienBoosting 0.9545454545454546\n"
     ]
    }
   ],
   "source": [
    "# Ennustetarkkuudet testidatalle\n",
    "\n",
    "print('Logistinen regressio', accuracy_score(y_test, y_test_malli1))\n",
    "print('Päätöspuu', accuracy_score(y_test, y_test_malli2))\n",
    "print('Satunnaismetsä', accuracy_score(y_test, y_test_malli3))\n",
    "print('GradienBoosting', accuracy_score(y_test, y_test_malli4))"
   ]
  },
  {
   "cell_type": "code",
   "execution_count": 11,
   "id": "1676114c",
   "metadata": {},
   "outputs": [
    {
     "data": {
      "text/plain": [
       "<sklearn.metrics._plot.confusion_matrix.ConfusionMatrixDisplay at 0x1e18ca091c0>"
      ]
     },
     "execution_count": 11,
     "metadata": {},
     "output_type": "execute_result"
    },
    {
     "data": {
      "image/png": "[encoded data removed]",
      "text/plain": [
       "<Figure size 432x288 with 2 Axes>"
      ]
     },
     "metadata": {
      "needs_background": "light"
     },
     "output_type": "display_data"
    }
   ],
   "source": [
    "# Confusion-matriisi opetusdatalle (Satunnaismetsä)\n",
    "plot_confusion_matrix(malli3, X_train, y_train)"
   ]
  },
  {
   "cell_type": "code",
   "execution_count": 12,
   "id": "29a82ae4",
   "metadata": {},
   "outputs": [
    {
     "data": {
      "text/plain": [
       "<sklearn.metrics._plot.confusion_matrix.ConfusionMatrixDisplay at 0x1e18d40eb80>"
      ]
     },
     "execution_count": 12,
     "metadata": {},
     "output_type": "execute_result"
    },
    {
     "data": {
      "image/png": "[encoded data removed]",
      "text/plain": [
       "<Figure size 432x288 with 2 Axes>"
      ]
     },
     "metadata": {
      "needs_background": "light"
     },
     "output_type": "display_data"
    }
   ],
   "source": [
    "# Confusion-matriisi testidatalle (Satunnaismetsä)\n",
    "plot_confusion_matrix(malli3, X_test, y_test)"
   ]
  },
  {
   "cell_type": "code",
   "execution_count": 13,
   "id": "c5a64bae",
   "metadata": {},
   "outputs": [
    {
     "name": "stdout",
     "output_type": "stream",
     "text": [
      "              precision    recall  f1-score   support\n",
      "\n",
      "           0       0.92      1.00      0.96       191\n",
      "           1       1.00      0.85      0.92       117\n",
      "\n",
      "    accuracy                           0.94       308\n",
      "   macro avg       0.96      0.93      0.94       308\n",
      "weighted avg       0.95      0.94      0.94       308\n",
      "\n"
     ]
    }
   ],
   "source": [
    "# Luokitteluraportti testidatalle (Satunnaismetsä)\n",
    "print(classification_report(y_test, y_test_malli3))"
   ]
  },
  {
   "cell_type": "code",
   "execution_count": 14,
   "id": "ed445358",
   "metadata": {},
   "outputs": [],
   "source": [
    "# Tarkastellaan mallin toimivuutta alkuperäisessä datassa\n",
    "\n",
    "X_all = df.drop('Class', axis=1)\n",
    "\n",
    "y_all = df['Class']"
   ]
  },
  {
   "cell_type": "code",
   "execution_count": 15,
   "id": "f9adebd7",
   "metadata": {},
   "outputs": [],
   "source": [
    "# Satunnaismetsän ennusteet\n",
    "y_all_malli3 = malli3.predict(X_all)"
   ]
  },
  {
   "cell_type": "code",
   "execution_count": 16,
   "id": "90d4d244",
   "metadata": {},
   "outputs": [
    {
     "data": {
      "text/plain": [
       "<sklearn.metrics._plot.confusion_matrix.ConfusionMatrixDisplay at 0x1e18d51d910>"
      ]
     },
     "execution_count": 16,
     "metadata": {},
     "output_type": "execute_result"
    },
    {
     "data": {
      "image/png": "[encoded data removed]",
      "text/plain": [
       "<Figure size 432x288 with 2 Axes>"
      ]
     },
     "metadata": {
      "needs_background": "light"
     },
     "output_type": "display_data"
    }
   ],
   "source": [
    "# Confusion-matriisi (Satunnaismetsä)\n",
    "plot_confusion_matrix(malli3, X_all, y_all)"
   ]
  },
  {
   "cell_type": "code",
   "execution_count": 18,
   "id": "56e58e0b",
   "metadata": {},
   "outputs": [
    {
     "name": "stdout",
     "output_type": "stream",
     "text": [
      "              precision    recall  f1-score   support\n",
      "\n",
      "           0       1.00      1.00      1.00    284315\n",
      "           1       0.47      0.85      0.61       492\n",
      "\n",
      "    accuracy                           1.00    284807\n",
      "   macro avg       0.74      0.92      0.80    284807\n",
      "weighted avg       1.00      1.00      1.00    284807\n",
      "\n"
     ]
    }
   ],
   "source": [
    "# Luokitteluraportti (Satunnaismetsä)\n",
    "print(classification_report(y_all, y_all_malli3))"
   ]
  }
 ],
 "metadata": {
  "kernelspec": {
   "display_name": "Python 3",
   "language": "python",
   "name": "python3"
  },
  "language_info": {
   "codemirror_mode": {
    "name": "ipython",
    "version": 3
   },
   "file_extension": ".py",
   "mimetype": "text/x-python",
   "name": "python",
   "nbconvert_exporter": "python",
   "pygments_lexer": "ipython3",
   "version": "3.8.12"
  }
 },
 "nbformat": 4,
 "nbformat_minor": 5
}
