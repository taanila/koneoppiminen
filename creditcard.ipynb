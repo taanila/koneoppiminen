{
 "cells": [
  {
   "cell_type": "code",
   "execution_count": 1,
   "id": "1e8e9b3b",
   "metadata": {},
   "outputs": [
    {
     "name": "stdout",
     "output_type": "stream",
     "text": [
      "Päivitetty 2022-09-05 19:02:03.714843\n"
     ]
    }
   ],
   "source": [
    "from datetime import datetime\n",
    "print(f'Päivitetty {datetime.now()}')"
   ]
  },
  {
   "cell_type": "markdown",
   "id": "a828ef28",
   "metadata": {},
   "source": [
    "# Luottokorttipetokset\n",
    "\n",
    "Data löytyy lähteestä: https://www.kaggle.com/mlg-ulb/creditcardfraud\n",
    "\n",
    "Datassa ei ole alkuperäisiä selittäviä muuttujia, vaan niistä pääkomponenttianalyysilla muodostetut uudet muuttujat (sekä tietosuojan että tilastotieteellisten syiden takia). **Class**-muuttuja on kohdemuuttuja (0 = 'ei petos', 1 = 'petos').\n",
    "\n",
    "Petoksia on vähän suhteessa kaikkiin luottokorttitapahtumiin. Tämän vuoksi data on syytä tasapainottaa. Käytän tasapainottamiseen imbalanced-learn-kirjastoa, joka ei ole Anacondassa valmiiksi asennettuna. Sen voi asentaa komentoriviltä (Anaconda prompt) komennolla: \n",
    "\n",
    "`conda install -c conda-forge imbalanced-learn`"
   ]
  },
  {
   "cell_type": "code",
   "execution_count": 2,
   "id": "8abc00b8",
   "metadata": {},
   "outputs": [],
   "source": [
    "import pandas as pd\n",
    "import matplotlib.pyplot as plt\n",
    "import seaborn as sns\n",
    "\n",
    "# train_test_split osaa jakaa datan opetusdataan ja testidataan\n",
    "from sklearn.model_selection import train_test_split\n",
    "\n",
    "# Datan tasapainottamiseen\n",
    "from imblearn.over_sampling import RandomOverSampler\n",
    "from imblearn.under_sampling import RandomUnderSampler\n",
    "\n",
    "# Kokeiltavat mallit\n",
    "from sklearn.linear_model import LogisticRegression\n",
    "from sklearn.tree import DecisionTreeClassifier, plot_tree\n",
    "from sklearn.ensemble import RandomForestClassifier, GradientBoostingClassifier\n",
    "\n",
    "# Sekaannusmatriisin näyttämiseen\n",
    "from sklearn.metrics import confusion_matrix, ConfusionMatrixDisplay"
   ]
  },
  {
   "cell_type": "markdown",
   "id": "1e2110cf",
   "metadata": {},
   "source": [
    "## Datan tarkastelua"
   ]
  },
  {
   "cell_type": "code",
   "execution_count": 3,
   "id": "8688541c",
   "metadata": {},
   "outputs": [
    {
     "name": "stdout",
     "output_type": "stream",
     "text": [
      "<class 'pandas.core.frame.DataFrame'>\n",
      "RangeIndex: 284807 entries, 0 to 284806\n",
      "Data columns (total 31 columns):\n",
      " #   Column  Non-Null Count   Dtype  \n",
      "---  ------  --------------   -----  \n",
      " 0   Time    284807 non-null  float64\n",
      " 1   V1      284807 non-null  float64\n",
      " 2   V2      284807 non-null  float64\n",
      " 3   V3      284807 non-null  float64\n",
      " 4   V4      284807 non-null  float64\n",
      " 5   V5      284807 non-null  float64\n",
      " 6   V6      284807 non-null  float64\n",
      " 7   V7      284807 non-null  float64\n",
      " 8   V8      284807 non-null  float64\n",
      " 9   V9      284807 non-null  float64\n",
      " 10  V10     284807 non-null  float64\n",
      " 11  V11     284807 non-null  float64\n",
      " 12  V12     284807 non-null  float64\n",
      " 13  V13     284807 non-null  float64\n",
      " 14  V14     284807 non-null  float64\n",
      " 15  V15     284807 non-null  float64\n",
      " 16  V16     284807 non-null  float64\n",
      " 17  V17     284807 non-null  float64\n",
      " 18  V18     284807 non-null  float64\n",
      " 19  V19     284807 non-null  float64\n",
      " 20  V20     284807 non-null  float64\n",
      " 21  V21     284807 non-null  float64\n",
      " 22  V22     284807 non-null  float64\n",
      " 23  V23     284807 non-null  float64\n",
      " 24  V24     284807 non-null  float64\n",
      " 25  V25     284807 non-null  float64\n",
      " 26  V26     284807 non-null  float64\n",
      " 27  V27     284807 non-null  float64\n",
      " 28  V28     284807 non-null  float64\n",
      " 29  Amount  284807 non-null  float64\n",
      " 30  Class   284807 non-null  int64  \n",
      "dtypes: float64(30), int64(1)\n",
      "memory usage: 67.4 MB\n"
     ]
    }
   ],
   "source": [
    "# Data on sen verran iso, että suosittelen sen lataamista\n",
    "# omalle koneelle ennen avaamista!\n",
    "df = pd.read_csv('https://taanila.fi/creditcard.csv')\n",
    "df.info()"
   ]
  },
  {
   "cell_type": "code",
   "execution_count": 4,
   "id": "9c6f4eb5",
   "metadata": {},
   "outputs": [
    {
     "data": {
      "text/plain": [
       "0    284315\n",
       "1       492\n",
       "Name: Class, dtype: int64"
      ]
     },
     "execution_count": 4,
     "metadata": {},
     "output_type": "execute_result"
    }
   ],
   "source": [
    "# Kohdemuuttujan jakauma\n",
    "df['Class'].value_counts()"
   ]
  },
  {
   "cell_type": "markdown",
   "id": "00ae8593",
   "metadata": {},
   "source": [
    "Kohdemuuttujan jakauma on epätasapainoinen."
   ]
  },
  {
   "cell_type": "markdown",
   "id": "fe04079a",
   "metadata": {},
   "source": [
    "## Tasapainotus ja mallien sovittaminen"
   ]
  },
  {
   "cell_type": "code",
   "execution_count": 5,
   "id": "c836ecc4",
   "metadata": {},
   "outputs": [],
   "source": [
    "# Selittävät muuttujat\n",
    "X = df.drop('Class', axis=1)\n",
    "\n",
    "# Kohdemuuttuja\n",
    "y = df['Class']\n",
    "\n",
    "# Jako opetus- ja testidataan\n",
    "X_train, X_test, y_train, y_test = train_test_split(X, y, random_state=2)"
   ]
  },
  {
   "cell_type": "markdown",
   "id": "a896df56",
   "metadata": {},
   "source": [
    "Data on iso, jos tasapainotetaan kasvattamalla pienempää ryhmää isomman kokoiseksi (**RandomOverSampler**). Tämän seurauksena mallin sovittaminen kestää niin kauan että välillä ehtii kahville.\n",
    "\n",
    "Nopeampi ratkaisu on tasapainottaa pienentämällä isompaa ryhmää (**RandomUnderSampler**), mutta tällä ei päästä yhtä hyviin malleihin."
   ]
  },
  {
   "cell_type": "code",
   "execution_count": 6,
   "id": "49415dc4",
   "metadata": {},
   "outputs": [
    {
     "data": {
      "text/plain": [
       "GradientBoostingClassifier(max_depth=2, random_state=2)"
      ]
     },
     "execution_count": 6,
     "metadata": {},
     "output_type": "execute_result"
    }
   ],
   "source": [
    "# Tasapainotus ja mallien sovitus\n",
    "\n",
    "# RandomOverSampler kasvattaa satunnaisotoksilla pienempää ryhmää\n",
    "# Voit myös kokeilla RandomUnderSampler, joka toimii nopeammin\n",
    "rs = RandomOverSampler(random_state=2)\n",
    "X_train, y_train = rs.fit_resample(X_train, y_train)\n",
    "\n",
    "lrc = LogisticRegression()\n",
    "lrc.fit(X_train, y_train)\n",
    "\n",
    "dtc = DecisionTreeClassifier(max_depth=3, random_state=2)\n",
    "dtc.fit(X_train, y_train)\n",
    "\n",
    "rfc = RandomForestClassifier(max_depth=4, random_state=2)\n",
    "rfc.fit(X_train, y_train)\n",
    "\n",
    "gbc = GradientBoostingClassifier(max_depth=2, random_state=2)\n",
    "gbc.fit(X_train, y_train)"
   ]
  },
  {
   "cell_type": "markdown",
   "id": "ba10f5cc",
   "metadata": {},
   "source": [
    "## Mallien arviointia"
   ]
  },
  {
   "cell_type": "code",
   "execution_count": 7,
   "id": "2efb0a84",
   "metadata": {},
   "outputs": [
    {
     "name": "stdout",
     "output_type": "stream",
     "text": [
      "Ennusteiden tarkkuus opetusdatassa:\n",
      "Logistinen regressio 0.937\n",
      "Päätöspuu 0.943\n",
      "Satunnaismetsä 0.947\n",
      "Gradienttitehostus 0.973\n"
     ]
    }
   ],
   "source": [
    "# Oikeaan osuneiden ennusteiden osuus opetusdatassa\n",
    "print('Ennusteiden tarkkuus opetusdatassa:')\n",
    "print(f'Logistinen regressio {lrc.score(X_train, y_train):.3f}')\n",
    "print(f'Päätöspuu {dtc.score(X_train, y_train):.3f}')\n",
    "print(f'Satunnaismetsä {rfc.score(X_train, y_train):.3f}')\n",
    "print(f'Gradienttitehostus {gbc.score(X_train, y_train):.3f}')"
   ]
  },
  {
   "cell_type": "code",
   "execution_count": 8,
   "id": "6b4c4ed6",
   "metadata": {},
   "outputs": [
    {
     "name": "stdout",
     "output_type": "stream",
     "text": [
      "Logistinen regressio 0.964\n",
      "Päätöspuu 0.960\n",
      "Satunnaismetsä 0.993\n",
      "Gradienttitehostus 0.984\n"
     ]
    }
   ],
   "source": [
    "# Oikeaan osuneiden ennusteiden osuus testidatassa\n",
    "print(f'Logistinen regressio {lrc.score(X_test, y_test):.3f}')\n",
    "print(f'Päätöspuu {dtc.score(X_test, y_test):.3f}')\n",
    "print(f'Satunnaismetsä {rfc.score(X_test, y_test):.3f}')\n",
    "print(f'Gradienttitehostus {gbc.score(X_test, y_test):.3f}')"
   ]
  },
  {
   "cell_type": "code",
   "execution_count": 9,
   "id": "14ef7e5c",
   "metadata": {},
   "outputs": [],
   "source": [
    "# Mallien antamat ennusteet testidatalle\n",
    "y_test_lrc = lrc.predict(X_test)\n",
    "y_test_dtc = dtc.predict(X_test)\n",
    "y_test_rfc = rfc.predict(X_test)\n",
    "y_test_gbc = gbc.predict(X_test)"
   ]
  },
  {
   "cell_type": "code",
   "execution_count": 10,
   "id": "1676114c",
   "metadata": {},
   "outputs": [
    {
     "data": {
      "text/plain": [
       "<sklearn.metrics._plot.confusion_matrix.ConfusionMatrixDisplay at 0x1bfd4989c70>"
      ]
     },
     "execution_count": 10,
     "metadata": {},
     "output_type": "execute_result"
    },
    {
     "data": {
      "image/png": "[encoded data removed]",
      "text/plain": [
       "<Figure size 432x288 with 2 Axes>"
      ]
     },
     "metadata": {
      "needs_background": "light"
     },
     "output_type": "display_data"
    }
   ],
   "source": [
    "cm = confusion_matrix(y_test, y_test_lrc)\n",
    "ConfusionMatrixDisplay(confusion_matrix=cm).plot()"
   ]
  },
  {
   "cell_type": "markdown",
   "id": "58f924d5",
   "metadata": {},
   "source": [
    "Logistinen regressio tunnistaa parhaiten petoksia, mutta ennustaa paljon ok-tapahtumia petoksiksi."
   ]
  },
  {
   "cell_type": "code",
   "execution_count": 11,
   "id": "29a82ae4",
   "metadata": {},
   "outputs": [
    {
     "data": {
      "text/plain": [
       "<sklearn.metrics._plot.confusion_matrix.ConfusionMatrixDisplay at 0x1bfd5018f40>"
      ]
     },
     "execution_count": 11,
     "metadata": {},
     "output_type": "execute_result"
    },
    {
     "data": {
      "image/png": "[encoded data removed]",
      "text/plain": [
       "<Figure size 432x288 with 2 Axes>"
      ]
     },
     "metadata": {
      "needs_background": "light"
     },
     "output_type": "display_data"
    }
   ],
   "source": [
    "cm = confusion_matrix(y_test, y_test_dtc)\n",
    "ConfusionMatrixDisplay(confusion_matrix=cm).plot()"
   ]
  },
  {
   "cell_type": "code",
   "execution_count": 12,
   "id": "6f99194d",
   "metadata": {},
   "outputs": [
    {
     "data": {
      "text/plain": [
       "<sklearn.metrics._plot.confusion_matrix.ConfusionMatrixDisplay at 0x1bfd74bdd60>"
      ]
     },
     "execution_count": 12,
     "metadata": {},
     "output_type": "execute_result"
    },
    {
     "data": {
      "image/png": "[encoded data removed]",
      "text/plain": [
       "<Figure size 432x288 with 2 Axes>"
      ]
     },
     "metadata": {
      "needs_background": "light"
     },
     "output_type": "display_data"
    }
   ],
   "source": [
    "cm = confusion_matrix(y_test, y_test_rfc)\n",
    "ConfusionMatrixDisplay(confusion_matrix=cm).plot()"
   ]
  },
  {
   "cell_type": "markdown",
   "id": "15dffc61",
   "metadata": {},
   "source": [
    "Satunnaismetsä erehtyy vähiten ok-tapahtumissa, mutta tunnistaa huonoiten petoksia."
   ]
  },
  {
   "cell_type": "code",
   "execution_count": 13,
   "id": "f7ebfcf0",
   "metadata": {},
   "outputs": [
    {
     "data": {
      "text/plain": [
       "<sklearn.metrics._plot.confusion_matrix.ConfusionMatrixDisplay at 0x1bfd755f9a0>"
      ]
     },
     "execution_count": 13,
     "metadata": {},
     "output_type": "execute_result"
    },
    {
     "data": {
      "image/png": "[encoded data removed]",
      "text/plain": [
       "<Figure size 432x288 with 2 Axes>"
      ]
     },
     "metadata": {
      "needs_background": "light"
     },
     "output_type": "display_data"
    }
   ],
   "source": [
    "cm = confusion_matrix(y_test, y_test_gbc)\n",
    "ConfusionMatrixDisplay(confusion_matrix=cm).plot()"
   ]
  },
  {
   "cell_type": "markdown",
   "id": "d80112a9",
   "metadata": {},
   "source": [
    "Gradienttitehostus on hyvä kompromissi väärien negatiivisten ja väärien positiivisten väliltä."
   ]
  },
  {
   "cell_type": "code",
   "execution_count": 14,
   "id": "2fdf57b0",
   "metadata": {},
   "outputs": [
    {
     "data": {
      "text/plain": [
       "[Text(0.4230769230769231, 0.875, 'V14 <= -1.808\\ngini = 0.5\\nsamples = 426440\\nvalue = [213220, 213220]'),\n",
       " Text(0.15384615384615385, 0.625, 'V4 <= -0.476\\ngini = 0.063\\nsamples = 192739\\nvalue = [6229, 186510]'),\n",
       " Text(0.07692307692307693, 0.375, 'gini = 0.0\\nsamples = 2015\\nvalue = [2015, 0]'),\n",
       " Text(0.23076923076923078, 0.375, 'V1 <= 1.992\\ngini = 0.043\\nsamples = 190724\\nvalue = [4214, 186510]'),\n",
       " Text(0.15384615384615385, 0.125, 'gini = 0.035\\nsamples = 189908\\nvalue = [3398, 186510]'),\n",
       " Text(0.3076923076923077, 0.125, 'gini = 0.0\\nsamples = 816\\nvalue = [816, 0]'),\n",
       " Text(0.6923076923076923, 0.625, 'V4 <= 1.661\\ngini = 0.202\\nsamples = 233701\\nvalue = [206991, 26710]'),\n",
       " Text(0.5384615384615384, 0.375, 'V20 <= -1.028\\ngini = 0.122\\nsamples = 203860\\nvalue = [190556, 13304]'),\n",
       " Text(0.46153846153846156, 0.125, 'gini = 0.5\\nsamples = 5630\\nvalue = [2837, 2793]'),\n",
       " Text(0.6153846153846154, 0.125, 'gini = 0.1\\nsamples = 198230\\nvalue = [187719, 10511]'),\n",
       " Text(0.8461538461538461, 0.375, 'V12 <= -0.46\\ngini = 0.495\\nsamples = 29841\\nvalue = [16435, 13406]'),\n",
       " Text(0.7692307692307693, 0.125, 'gini = 0.433\\nsamples = 15590\\nvalue = [4936, 10654]'),\n",
       " Text(0.9230769230769231, 0.125, 'gini = 0.312\\nsamples = 14251\\nvalue = [11499, 2752]')]"
      ]
     },
     "execution_count": 14,
     "metadata": {},
     "output_type": "execute_result"
    },
    {
     "data": {
      "image/png": "[encoded data removed]",
      "text/plain": [
       "<Figure size 720x432 with 1 Axes>"
      ]
     },
     "metadata": {
      "needs_background": "light"
     },
     "output_type": "display_data"
    }
   ],
   "source": [
    "# Päätöspuumallin voin havainnollistaa kaaviona\n",
    "plt.figure(figsize=(10, 6))\n",
    "plot_tree(decision_tree=dtc, feature_names=X.columns)"
   ]
  }
 ],
 "metadata": {
  "kernelspec": {
   "display_name": "Python 3 (ipykernel)",
   "language": "python",
   "name": "python3"
  },
  "language_info": {
   "codemirror_mode": {
    "name": "ipython",
    "version": 3
   },
   "file_extension": ".py",
   "mimetype": "text/x-python",
   "name": "python",
   "nbconvert_exporter": "python",
   "pygments_lexer": "ipython3",
   "version": "3.9.12"
  }
 },
 "nbformat": 4,
 "nbformat_minor": 5
}
