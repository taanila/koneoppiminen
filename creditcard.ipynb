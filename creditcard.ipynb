{
 "cells": [
  {
   "cell_type": "code",
   "execution_count": 1,
   "id": "1e8e9b3b",
   "metadata": {},
   "outputs": [
    {
     "name": "stdout",
     "output_type": "stream",
     "text": [
      "Päivitetty 2022-02-01 11:34:36.861076\n"
     ]
    }
   ],
   "source": [
    "from datetime import datetime\n",
    "print(f'Päivitetty {datetime.now()}')"
   ]
  },
  {
   "cell_type": "markdown",
   "id": "a828ef28",
   "metadata": {},
   "source": [
    "# Luottokorttipetokset\n",
    "\n",
    "Data löytyy lähteestä: https://www.kaggle.com/mlg-ulb/creditcardfraud\n",
    "\n",
    "Datassa ei ole alkuperäisiä selittäviä muuttujia, vaan niistä pääkomponenttianalyysilla muodostetut uudet muuttujat (sekä tietosuojan että tilastotieteellisten syiden takia). **Class**-muuttuja on ennustettava muuttuja (0 = 'ei petos', 1 = 'petos').\n",
    "\n",
    "Petoksia on vähän suhteessa kaikkiin luottokorttitapahtumiin. Tämän vuoksi data on syytä tasapainottaa."
   ]
  },
  {
   "cell_type": "code",
   "execution_count": 2,
   "id": "8abc00b8",
   "metadata": {},
   "outputs": [],
   "source": [
    "import pandas as pd\n",
    "import matplotlib.pyplot as plt\n",
    "import seaborn as sns\n",
    "\n",
    "# train_test_split osaa jakaa datan opetusdataan ja testidataan\n",
    "from sklearn.model_selection import train_test_split\n",
    "\n",
    "# Käytettävät mallit\n",
    "from sklearn.linear_model import LogisticRegression\n",
    "from sklearn.tree import DecisionTreeClassifier\n",
    "from sklearn.ensemble import RandomForestClassifier\n",
    "from sklearn.ensemble import GradientBoostingClassifier\n",
    "\n",
    "# Mallien hyvyyden arviointiin\n",
    "from sklearn.metrics import accuracy_score, confusion_matrix, ConfusionMatrixDisplay\n",
    "\n",
    "# Tätä tarvitaan vanhemmissa versioissa:\n",
    "#from sklearn.metrics import plot_confusion_matrix\n",
    "\n",
    "# Päätöspuun piirtämiseen\n",
    "from sklearn.tree import plot_tree"
   ]
  },
  {
   "cell_type": "markdown",
   "id": "1e2110cf",
   "metadata": {},
   "source": [
    "## Datan tarkastelua ja tasapainottaminen"
   ]
  },
  {
   "cell_type": "code",
   "execution_count": 3,
   "id": "8688541c",
   "metadata": {},
   "outputs": [
    {
     "name": "stdout",
     "output_type": "stream",
     "text": [
      "<class 'pandas.core.frame.DataFrame'>\n",
      "RangeIndex: 284807 entries, 0 to 284806\n",
      "Data columns (total 31 columns):\n",
      " #   Column  Non-Null Count   Dtype  \n",
      "---  ------  --------------   -----  \n",
      " 0   Time    284807 non-null  float64\n",
      " 1   V1      284807 non-null  float64\n",
      " 2   V2      284807 non-null  float64\n",
      " 3   V3      284807 non-null  float64\n",
      " 4   V4      284807 non-null  float64\n",
      " 5   V5      284807 non-null  float64\n",
      " 6   V6      284807 non-null  float64\n",
      " 7   V7      284807 non-null  float64\n",
      " 8   V8      284807 non-null  float64\n",
      " 9   V9      284807 non-null  float64\n",
      " 10  V10     284807 non-null  float64\n",
      " 11  V11     284807 non-null  float64\n",
      " 12  V12     284807 non-null  float64\n",
      " 13  V13     284807 non-null  float64\n",
      " 14  V14     284807 non-null  float64\n",
      " 15  V15     284807 non-null  float64\n",
      " 16  V16     284807 non-null  float64\n",
      " 17  V17     284807 non-null  float64\n",
      " 18  V18     284807 non-null  float64\n",
      " 19  V19     284807 non-null  float64\n",
      " 20  V20     284807 non-null  float64\n",
      " 21  V21     284807 non-null  float64\n",
      " 22  V22     284807 non-null  float64\n",
      " 23  V23     284807 non-null  float64\n",
      " 24  V24     284807 non-null  float64\n",
      " 25  V25     284807 non-null  float64\n",
      " 26  V26     284807 non-null  float64\n",
      " 27  V27     284807 non-null  float64\n",
      " 28  V28     284807 non-null  float64\n",
      " 29  Amount  284807 non-null  float64\n",
      " 30  Class   284807 non-null  int64  \n",
      "dtypes: float64(30), int64(1)\n",
      "memory usage: 67.4 MB\n"
     ]
    }
   ],
   "source": [
    "df = pd.read_csv('creditcard.csv')\n",
    "df.info()"
   ]
  },
  {
   "cell_type": "code",
   "execution_count": 4,
   "id": "9c6f4eb5",
   "metadata": {},
   "outputs": [
    {
     "data": {
      "text/plain": [
       "0    284315\n",
       "1       492\n",
       "Name: Class, dtype: int64"
      ]
     },
     "execution_count": 4,
     "metadata": {},
     "output_type": "execute_result"
    }
   ],
   "source": [
    "df['Class'].value_counts()"
   ]
  },
  {
   "cell_type": "markdown",
   "id": "00ae8593",
   "metadata": {},
   "source": [
    "Selitettävän/ennustettavan muuttujan jakauma on epätasapainoinen.\n",
    "\n",
    "Tasapainotetaan data ottamalla mukaan vain 738 (1.5 * 492) henkilön satunnaisotos isommasta ryhmästä."
   ]
  },
  {
   "cell_type": "code",
   "execution_count": 5,
   "id": "9ca599b9",
   "metadata": {},
   "outputs": [
    {
     "data": {
      "text/plain": [
       "0    738\n",
       "1    492\n",
       "Name: Class, dtype: int64"
      ]
     },
     "execution_count": 5,
     "metadata": {},
     "output_type": "execute_result"
    }
   ],
   "source": [
    "df_tasap = df[df['Class'] == 1].append(df[df['Class'] == 0].sample(n = 738, random_state = 2), ignore_index = True)\n",
    "df_tasap['Class'].value_counts()"
   ]
  },
  {
   "cell_type": "markdown",
   "id": "fe04079a",
   "metadata": {},
   "source": [
    "## Mallien sovittaminen"
   ]
  },
  {
   "cell_type": "code",
   "execution_count": 6,
   "id": "c836ecc4",
   "metadata": {},
   "outputs": [],
   "source": [
    "# Selittävät muuttujat\n",
    "X = df_tasap.drop('Class', axis = 1)\n",
    "\n",
    "# Selitettävä/ennustettava muuttuja\n",
    "y = df_tasap['Class']\n",
    "\n",
    "# Jako opetus- ja testidataan\n",
    "X_train, X_test, y_train, y_test = train_test_split(X, y, random_state = 2)"
   ]
  },
  {
   "cell_type": "code",
   "execution_count": 7,
   "id": "49415dc4",
   "metadata": {},
   "outputs": [
    {
     "data": {
      "text/plain": [
       "GradientBoostingClassifier(max_depth=2, random_state=2)"
      ]
     },
     "execution_count": 7,
     "metadata": {},
     "output_type": "execute_result"
    }
   ],
   "source": [
    "# Mallien sovitus\n",
    "\n",
    "malli1 = LogisticRegression()\n",
    "malli1.fit(X_train, y_train)\n",
    "\n",
    "malli2 = DecisionTreeClassifier(max_depth = 3, random_state = 2)\n",
    "malli2.fit(X_train, y_train)\n",
    "\n",
    "malli3 = RandomForestClassifier(max_depth = 4, random_state = 2)\n",
    "malli3.fit(X_train, y_train)\n",
    "\n",
    "malli4 = GradientBoostingClassifier(max_depth = 2, random_state = 2)\n",
    "malli4.fit(X_train, y_train)"
   ]
  },
  {
   "cell_type": "markdown",
   "id": "ba10f5cc",
   "metadata": {},
   "source": [
    "## Mallien arviointia"
   ]
  },
  {
   "cell_type": "code",
   "execution_count": 8,
   "id": "2efb0a84",
   "metadata": {},
   "outputs": [
    {
     "name": "stdout",
     "output_type": "stream",
     "text": [
      "Ennusteiden tarkkuus opetusdatassa:\n",
      "Logistinen regressio 0.946\n",
      "Päätöspuu 0.946\n",
      "Satunnaismetsä 0.946\n",
      "GradientBoosting 0.975\n"
     ]
    }
   ],
   "source": [
    "# Mallien antamat ennusteet opetus- ja testidatalle\n",
    "\n",
    "y_train_malli1 = malli1.predict(X_train)\n",
    "y_test_malli1 = malli1.predict(X_test)\n",
    "\n",
    "y_train_malli2 = malli2.predict(X_train)\n",
    "y_test_malli2 = malli2.predict(X_test)\n",
    "\n",
    "y_train_malli3 = malli3.predict(X_train)\n",
    "y_test_malli3 = malli3.predict(X_test)\n",
    "\n",
    "y_train_malli4 = malli4.predict(X_train)\n",
    "y_test_malli4 = malli4.predict(X_test)\n",
    "\n",
    "# Oikeaan osuneiden ennusteiden osuus opetusdatassa\n",
    "print('Ennusteiden tarkkuus opetusdatassa:')\n",
    "print(f'Logistinen regressio {accuracy_score(y_train, y_train_malli1):.3f}')\n",
    "print(f'Päätöspuu {accuracy_score(y_train, y_train_malli2):.3f}')\n",
    "print(f'Satunnaismetsä {accuracy_score(y_train, y_train_malli3):.3f}')\n",
    "print(f'GradientBoosting {accuracy_score(y_train, y_train_malli4):.3f}')"
   ]
  },
  {
   "cell_type": "code",
   "execution_count": 9,
   "id": "6b4c4ed6",
   "metadata": {},
   "outputs": [
    {
     "name": "stdout",
     "output_type": "stream",
     "text": [
      "Logistinen regressio 0.951\n",
      "Päätöspuu 0.935\n",
      "Satunnaismetsä 0.948\n",
      "GradientBoosting 0.961\n"
     ]
    }
   ],
   "source": [
    "# Oikeaan osuneiden ennusteiden osuus testidatassa\n",
    "print(f'Logistinen regressio {accuracy_score(y_test, y_test_malli1):.3f}')\n",
    "print(f'Päätöspuu {accuracy_score(y_test, y_test_malli2):.3f}')\n",
    "print(f'Satunnaismetsä {accuracy_score(y_test, y_test_malli3):.3f}')\n",
    "print(f'GradientBoosting {accuracy_score(y_test, y_test_malli4):.3f}')"
   ]
  },
  {
   "cell_type": "code",
   "execution_count": 10,
   "id": "1676114c",
   "metadata": {},
   "outputs": [
    {
     "data": {
      "text/plain": [
       "<sklearn.metrics._plot.confusion_matrix.ConfusionMatrixDisplay at 0x283a293fb80>"
      ]
     },
     "execution_count": 10,
     "metadata": {},
     "output_type": "execute_result"
    },
    {
     "data": {
      "image/png": "[encoded data removed]",
      "text/plain": [
       "<Figure size 432x288 with 2 Axes>"
      ]
     },
     "metadata": {
      "needs_background": "light"
     },
     "output_type": "display_data"
    }
   ],
   "source": [
    "cm = confusion_matrix(y_train, y_train_malli4)\n",
    "ConfusionMatrixDisplay(confusion_matrix=cm).plot()\n",
    "\n",
    "# Seuraava toimii vanhemmissa versioissa\n",
    "#plot_confusion_matrix(malli4, X_train, y_train)"
   ]
  },
  {
   "cell_type": "markdown",
   "id": "1e15660e",
   "metadata": {},
   "source": [
    "Opetusdatassa gradientboosting ennustaa kaksi ok-tapahtumaa petokseksi ja jättää tunnistamatta 21 petosta."
   ]
  },
  {
   "cell_type": "code",
   "execution_count": 11,
   "id": "29a82ae4",
   "metadata": {},
   "outputs": [
    {
     "data": {
      "text/plain": [
       "<sklearn.metrics._plot.confusion_matrix.ConfusionMatrixDisplay at 0x283a30c8700>"
      ]
     },
     "execution_count": 11,
     "metadata": {},
     "output_type": "execute_result"
    },
    {
     "data": {
      "image/png": "[encoded data removed]",
      "text/plain": [
       "<Figure size 432x288 with 2 Axes>"
      ]
     },
     "metadata": {
      "needs_background": "light"
     },
     "output_type": "display_data"
    }
   ],
   "source": [
    "cm = confusion_matrix(y_test, y_test_malli4)\n",
    "ConfusionMatrixDisplay(confusion_matrix=cm).plot()\n",
    "\n",
    "# Seuraava toimii vanhemmissa versioissa\n",
    "#plot_confusion_matrix(malli4, X_test, y_test)"
   ]
  },
  {
   "cell_type": "markdown",
   "id": "f0cff508",
   "metadata": {},
   "source": [
    "Testidatassa gradientboosting ennustaa kolme ok-tapahtumaa petokseksi ja jättää tunnistamatta yhdeksän petosta."
   ]
  },
  {
   "cell_type": "code",
   "execution_count": 12,
   "id": "ed445358",
   "metadata": {},
   "outputs": [],
   "source": [
    "# Tarkastellaan vielä mallien toimivuutta alkuperäisessä datassa\n",
    "X_all = df.drop('Class', axis=1)\n",
    "y_all = df['Class']"
   ]
  },
  {
   "cell_type": "code",
   "execution_count": 13,
   "id": "f9adebd7",
   "metadata": {},
   "outputs": [],
   "source": [
    "# Satunnaismetsän ennusteet\n",
    "y_all_malli1 = malli1.predict(X_all)\n",
    "y_all_malli2 = malli2.predict(X_all)\n",
    "y_all_malli3 = malli3.predict(X_all)\n",
    "y_all_malli4 = malli4.predict(X_all)"
   ]
  },
  {
   "cell_type": "code",
   "execution_count": 14,
   "id": "90d4d244",
   "metadata": {},
   "outputs": [
    {
     "data": {
      "text/plain": [
       "<sklearn.metrics._plot.confusion_matrix.ConfusionMatrixDisplay at 0x283a3160d00>"
      ]
     },
     "execution_count": 14,
     "metadata": {},
     "output_type": "execute_result"
    },
    {
     "data": {
      "image/png": "[encoded data removed]",
      "text/plain": [
       "<Figure size 432x288 with 2 Axes>"
      ]
     },
     "metadata": {
      "needs_background": "light"
     },
     "output_type": "display_data"
    }
   ],
   "source": [
    "cm = confusion_matrix(y_all, y_all_malli1)\n",
    "ConfusionMatrixDisplay(confusion_matrix=cm).plot()\n",
    "\n",
    "# Seuraava toimii vanhemmissa versioissa\n",
    "#plot_confusion_matrix(malli1, X_all, y_all)"
   ]
  },
  {
   "cell_type": "code",
   "execution_count": 15,
   "id": "8e6de35c",
   "metadata": {},
   "outputs": [
    {
     "data": {
      "text/plain": [
       "<sklearn.metrics._plot.confusion_matrix.ConfusionMatrixDisplay at 0x283a3219130>"
      ]
     },
     "execution_count": 15,
     "metadata": {},
     "output_type": "execute_result"
    },
    {
     "data": {
      "image/png": "[encoded data removed]",
      "text/plain": [
       "<Figure size 432x288 with 2 Axes>"
      ]
     },
     "metadata": {
      "needs_background": "light"
     },
     "output_type": "display_data"
    }
   ],
   "source": [
    "cm = confusion_matrix(y_all, y_all_malli2)\n",
    "ConfusionMatrixDisplay(confusion_matrix=cm).plot()\n",
    "\n",
    "# Seuraava toimii vanhemmissa versioissa\n",
    "#plot_confusion_matrix(malli2, X_all, y_all)"
   ]
  },
  {
   "cell_type": "code",
   "execution_count": 16,
   "id": "d41e8e4d",
   "metadata": {},
   "outputs": [
    {
     "data": {
      "text/plain": [
       "<sklearn.metrics._plot.confusion_matrix.ConfusionMatrixDisplay at 0x283a30baf70>"
      ]
     },
     "execution_count": 16,
     "metadata": {},
     "output_type": "execute_result"
    },
    {
     "data": {
      "image/png": "[encoded data removed]",
      "text/plain": [
       "<Figure size 432x288 with 2 Axes>"
      ]
     },
     "metadata": {
      "needs_background": "light"
     },
     "output_type": "display_data"
    }
   ],
   "source": [
    "cm = confusion_matrix(y_all, y_all_malli3)\n",
    "ConfusionMatrixDisplay(confusion_matrix=cm).plot()\n",
    "\n",
    "# Seuraava toimii vanhemmissa versioissa\n",
    "#plot_confusion_matrix(malli3, X_all, y_all)"
   ]
  },
  {
   "cell_type": "markdown",
   "id": "f15ea6de",
   "metadata": {},
   "source": [
    "Jos tarkastellaan tasapainotetun datan sijasta alkuperäistä dataa, niin satunnaismetsä tuottaa vähiten virheellisiä positiivisia (2359 kpl)."
   ]
  },
  {
   "cell_type": "code",
   "execution_count": 17,
   "id": "610f5b74",
   "metadata": {},
   "outputs": [
    {
     "data": {
      "text/plain": [
       "<sklearn.metrics._plot.confusion_matrix.ConfusionMatrixDisplay at 0x283a333fb50>"
      ]
     },
     "execution_count": 17,
     "metadata": {},
     "output_type": "execute_result"
    },
    {
     "data": {
      "image/png": "[encoded data removed]",
      "text/plain": [
       "<Figure size 432x288 with 2 Axes>"
      ]
     },
     "metadata": {
      "needs_background": "light"
     },
     "output_type": "display_data"
    }
   ],
   "source": [
    "cm = confusion_matrix(y_all, y_all_malli4)\n",
    "ConfusionMatrixDisplay(confusion_matrix=cm).plot()\n",
    "\n",
    "# Seuraava toimii vanhemmissa versioissa\n",
    "#plot_confusion_matrix(malli4, X_all, y_all)"
   ]
  },
  {
   "cell_type": "markdown",
   "id": "a66ca55f",
   "metadata": {},
   "source": [
    "Jos tarkastellaan tasapainotetun datan sijasta alkuperäistä dataa, niin GradientBoosting tunnistaa eniten petoksia (462 kpl)."
   ]
  },
  {
   "cell_type": "code",
   "execution_count": 18,
   "id": "2fdf57b0",
   "metadata": {},
   "outputs": [
    {
     "data": {
      "text/plain": [
       "[Text(236.07692307692307, 285.39000000000004, 'V14 <= -2.691\\ngini = 0.48\\nsamples = 922\\nvalue = [553, 369]'),\n",
       " Text(85.84615384615384, 203.85000000000002, 'V14 <= -3.074\\ngini = 0.006\\nsamples = 309\\nvalue = [1, 308]'),\n",
       " Text(42.92307692307692, 122.31, 'gini = 0.0\\nsamples = 302\\nvalue = [0, 302]'),\n",
       " Text(128.76923076923077, 122.31, 'V18 <= 1.963\\ngini = 0.245\\nsamples = 7\\nvalue = [1, 6]'),\n",
       " Text(85.84615384615384, 40.76999999999998, 'gini = 0.0\\nsamples = 6\\nvalue = [0, 6]'),\n",
       " Text(171.69230769230768, 40.76999999999998, 'gini = 0.0\\nsamples = 1\\nvalue = [1, 0]'),\n",
       " Text(386.30769230769226, 203.85000000000002, 'V4 <= 2.235\\ngini = 0.179\\nsamples = 613\\nvalue = [552, 61]'),\n",
       " Text(300.46153846153845, 122.31, 'V14 <= -0.813\\ngini = 0.116\\nsamples = 548\\nvalue = [514, 34]'),\n",
       " Text(257.53846153846155, 40.76999999999998, 'gini = 0.358\\nsamples = 77\\nvalue = [59, 18]'),\n",
       " Text(343.38461538461536, 40.76999999999998, 'gini = 0.066\\nsamples = 471\\nvalue = [455, 16]'),\n",
       " Text(472.15384615384613, 122.31, 'V18 <= -0.593\\ngini = 0.486\\nsamples = 65\\nvalue = [38, 27]'),\n",
       " Text(429.23076923076917, 40.76999999999998, 'gini = 0.0\\nsamples = 11\\nvalue = [0, 11]'),\n",
       " Text(515.0769230769231, 40.76999999999998, 'gini = 0.417\\nsamples = 54\\nvalue = [38, 16]')]"
      ]
     },
     "execution_count": 18,
     "metadata": {},
     "output_type": "execute_result"
    },
    {
     "data": {
      "image/png": "[encoded data removed]",
      "text/plain": [
       "<Figure size 720x432 with 1 Axes>"
      ]
     },
     "metadata": {
      "needs_background": "light"
     },
     "output_type": "display_data"
    }
   ],
   "source": [
    "# Päätöspuumallin voin havainnollistaa kaaviona\n",
    "plt.figure(figsize = (10, 6))\n",
    "plot_tree(decision_tree = malli2, feature_names = X.columns)"
   ]
  },
  {
   "cell_type": "code",
   "execution_count": null,
   "id": "5fa747ab",
   "metadata": {},
   "outputs": [],
   "source": []
  }
 ],
 "metadata": {
  "kernelspec": {
   "display_name": "Python 3 (ipykernel)",
   "language": "python",
   "name": "python3"
  },
  "language_info": {
   "codemirror_mode": {
    "name": "ipython",
    "version": 3
   },
   "file_extension": ".py",
   "mimetype": "text/x-python",
   "name": "python",
   "nbconvert_exporter": "python",
   "pygments_lexer": "ipython3",
   "version": "3.9.7"
  }
 },
 "nbformat": 4,
 "nbformat_minor": 5
}
