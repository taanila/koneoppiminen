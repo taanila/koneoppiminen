{
 "cells": [
  {
   "cell_type": "code",
   "execution_count": 1,
   "metadata": {},
   "outputs": [
    {
     "name": "stdout",
     "output_type": "stream",
     "text": [
      "Päivitetty 2021-10-30 17:41:00.007361\n"
     ]
    }
   ],
   "source": [
    "from datetime import datetime\n",
    "print(f'Päivitetty {datetime.now()}')"
   ]
  },
  {
   "cell_type": "markdown",
   "metadata": {
    "papermill": {
     "duration": 0.03334,
     "end_time": "2020-12-21T20:34:25.103544",
     "exception": false,
     "start_time": "2020-12-21T20:34:25.070204",
     "status": "completed"
    },
    "tags": []
   },
   "source": [
    "# Auton hinnan ennustaminen\n",
    "\n",
    "Olen lainannut ideoita lähteestä https://www.kaggle.com/mohaiminul101/car-price-prediction"
   ]
  },
  {
   "cell_type": "code",
   "execution_count": 2,
   "metadata": {
    "_cell_guid": "b1076dfc-b9ad-4769-8c92-a6c4dae69d19",
    "_uuid": "8f2839f25d086af736a60e9eeb907d3b93b6e0e5",
    "execution": {
     "iopub.execute_input": "2020-12-21T20:34:25.177803Z",
     "iopub.status.busy": "2020-12-21T20:34:25.177007Z",
     "iopub.status.idle": "2020-12-21T20:34:26.343881Z",
     "shell.execute_reply": "2020-12-21T20:34:26.342714Z"
    },
    "papermill": {
     "duration": 1.209696,
     "end_time": "2020-12-21T20:34:26.344354",
     "exception": false,
     "start_time": "2020-12-21T20:34:25.134658",
     "status": "completed"
    },
    "tags": []
   },
   "outputs": [],
   "source": [
    "import pandas as pd\n",
    "import numpy as np\n",
    "import matplotlib.pyplot as plt\n",
    "import seaborn as sns\n",
    "\n",
    "from sklearn.model_selection import train_test_split\n",
    "\n",
    "from sklearn.linear_model import LinearRegression\n",
    "from sklearn.ensemble import RandomForestRegressor\n",
    "from sklearn.ensemble import GradientBoostingRegressor\n",
    "\n",
    "from sklearn.metrics import r2_score\n",
    "\n",
    "%matplotlib inline"
   ]
  },
  {
   "cell_type": "markdown",
   "metadata": {},
   "source": [
    "## Dataan tutustumista ja muuntamista"
   ]
  },
  {
   "cell_type": "code",
   "execution_count": 3,
   "metadata": {
    "_cell_guid": "79c7e3d0-c299-4dcb-8224-4455121ee9b0",
    "_uuid": "d629ff2d2480ee46fbb7e2d37f6b5fab8052498a",
    "execution": {
     "iopub.execute_input": "2020-12-21T20:34:26.417195Z",
     "iopub.status.busy": "2020-12-21T20:34:26.416460Z",
     "iopub.status.idle": "2020-12-21T20:34:26.431979Z",
     "shell.execute_reply": "2020-12-21T20:34:26.431280Z"
    },
    "papermill": {
     "duration": 0.05608,
     "end_time": "2020-12-21T20:34:26.432107",
     "exception": false,
     "start_time": "2020-12-21T20:34:26.376027",
     "status": "completed"
    },
    "tags": []
   },
   "outputs": [
    {
     "data": {
      "text/html": [
       "<div>\n",
       "<style scoped>\n",
       "    .dataframe tbody tr th:only-of-type {\n",
       "        vertical-align: middle;\n",
       "    }\n",
       "\n",
       "    .dataframe tbody tr th {\n",
       "        vertical-align: top;\n",
       "    }\n",
       "\n",
       "    .dataframe thead th {\n",
       "        text-align: right;\n",
       "    }\n",
       "</style>\n",
       "<table border=\"1\" class=\"dataframe\">\n",
       "  <thead>\n",
       "    <tr style=\"text-align: right;\">\n",
       "      <th></th>\n",
       "      <th>Car_Name</th>\n",
       "      <th>Year</th>\n",
       "      <th>Selling_Price</th>\n",
       "      <th>Present_Price</th>\n",
       "      <th>Kms_Driven</th>\n",
       "      <th>Fuel_Type</th>\n",
       "      <th>Seller_Type</th>\n",
       "      <th>Transmission</th>\n",
       "      <th>Owner</th>\n",
       "    </tr>\n",
       "  </thead>\n",
       "  <tbody>\n",
       "    <tr>\n",
       "      <th>0</th>\n",
       "      <td>ritz</td>\n",
       "      <td>2014</td>\n",
       "      <td>3.35</td>\n",
       "      <td>5.59</td>\n",
       "      <td>27000</td>\n",
       "      <td>Petrol</td>\n",
       "      <td>Dealer</td>\n",
       "      <td>Manual</td>\n",
       "      <td>0</td>\n",
       "    </tr>\n",
       "    <tr>\n",
       "      <th>1</th>\n",
       "      <td>sx4</td>\n",
       "      <td>2013</td>\n",
       "      <td>4.75</td>\n",
       "      <td>9.54</td>\n",
       "      <td>43000</td>\n",
       "      <td>Diesel</td>\n",
       "      <td>Dealer</td>\n",
       "      <td>Manual</td>\n",
       "      <td>0</td>\n",
       "    </tr>\n",
       "    <tr>\n",
       "      <th>2</th>\n",
       "      <td>ciaz</td>\n",
       "      <td>2017</td>\n",
       "      <td>7.25</td>\n",
       "      <td>9.85</td>\n",
       "      <td>6900</td>\n",
       "      <td>Petrol</td>\n",
       "      <td>Dealer</td>\n",
       "      <td>Manual</td>\n",
       "      <td>0</td>\n",
       "    </tr>\n",
       "    <tr>\n",
       "      <th>3</th>\n",
       "      <td>wagon r</td>\n",
       "      <td>2011</td>\n",
       "      <td>2.85</td>\n",
       "      <td>4.15</td>\n",
       "      <td>5200</td>\n",
       "      <td>Petrol</td>\n",
       "      <td>Dealer</td>\n",
       "      <td>Manual</td>\n",
       "      <td>0</td>\n",
       "    </tr>\n",
       "    <tr>\n",
       "      <th>4</th>\n",
       "      <td>swift</td>\n",
       "      <td>2014</td>\n",
       "      <td>4.60</td>\n",
       "      <td>6.87</td>\n",
       "      <td>42450</td>\n",
       "      <td>Diesel</td>\n",
       "      <td>Dealer</td>\n",
       "      <td>Manual</td>\n",
       "      <td>0</td>\n",
       "    </tr>\n",
       "  </tbody>\n",
       "</table>\n",
       "</div>"
      ],
      "text/plain": [
       "  Car_Name  Year  Selling_Price  Present_Price  Kms_Driven Fuel_Type  \\\n",
       "0     ritz  2014           3.35           5.59       27000    Petrol   \n",
       "1      sx4  2013           4.75           9.54       43000    Diesel   \n",
       "2     ciaz  2017           7.25           9.85        6900    Petrol   \n",
       "3  wagon r  2011           2.85           4.15        5200    Petrol   \n",
       "4    swift  2014           4.60           6.87       42450    Diesel   \n",
       "\n",
       "  Seller_Type Transmission  Owner  \n",
       "0      Dealer       Manual      0  \n",
       "1      Dealer       Manual      0  \n",
       "2      Dealer       Manual      0  \n",
       "3      Dealer       Manual      0  \n",
       "4      Dealer       Manual      0  "
      ]
     },
     "execution_count": 3,
     "metadata": {},
     "output_type": "execute_result"
    }
   ],
   "source": [
    "df = pd.read_csv('https://taanila.fi/car_data.csv')\n",
    "df.head()"
   ]
  },
  {
   "cell_type": "code",
   "execution_count": 4,
   "metadata": {
    "execution": {
     "iopub.execute_input": "2020-12-21T20:34:26.688027Z",
     "iopub.status.busy": "2020-12-21T20:34:26.687293Z",
     "iopub.status.idle": "2020-12-21T20:34:26.691991Z",
     "shell.execute_reply": "2020-12-21T20:34:26.691185Z"
    },
    "papermill": {
     "duration": 0.05177,
     "end_time": "2020-12-21T20:34:26.692119",
     "exception": false,
     "start_time": "2020-12-21T20:34:26.640349",
     "status": "completed"
    },
    "tags": []
   },
   "outputs": [
    {
     "name": "stdout",
     "output_type": "stream",
     "text": [
      "<class 'pandas.core.frame.DataFrame'>\n",
      "RangeIndex: 301 entries, 0 to 300\n",
      "Data columns (total 9 columns):\n",
      " #   Column         Non-Null Count  Dtype  \n",
      "---  ------         --------------  -----  \n",
      " 0   Car_Name       301 non-null    object \n",
      " 1   Year           301 non-null    int64  \n",
      " 2   Selling_Price  301 non-null    float64\n",
      " 3   Present_Price  301 non-null    float64\n",
      " 4   Kms_Driven     301 non-null    int64  \n",
      " 5   Fuel_Type      301 non-null    object \n",
      " 6   Seller_Type    301 non-null    object \n",
      " 7   Transmission   301 non-null    object \n",
      " 8   Owner          301 non-null    int64  \n",
      "dtypes: float64(2), int64(3), object(4)\n",
      "memory usage: 21.3+ KB\n"
     ]
    }
   ],
   "source": [
    "df.info()"
   ]
  },
  {
   "cell_type": "code",
   "execution_count": 5,
   "metadata": {
    "execution": {
     "iopub.execute_input": "2020-12-21T20:34:26.774108Z",
     "iopub.status.busy": "2020-12-21T20:34:26.773280Z",
     "iopub.status.idle": "2020-12-21T20:34:26.798179Z",
     "shell.execute_reply": "2020-12-21T20:34:26.797562Z"
    },
    "papermill": {
     "duration": 0.066165,
     "end_time": "2020-12-21T20:34:26.798311",
     "exception": false,
     "start_time": "2020-12-21T20:34:26.732146",
     "status": "completed"
    },
    "tags": []
   },
   "outputs": [
    {
     "data": {
      "text/html": [
       "<div>\n",
       "<style scoped>\n",
       "    .dataframe tbody tr th:only-of-type {\n",
       "        vertical-align: middle;\n",
       "    }\n",
       "\n",
       "    .dataframe tbody tr th {\n",
       "        vertical-align: top;\n",
       "    }\n",
       "\n",
       "    .dataframe thead th {\n",
       "        text-align: right;\n",
       "    }\n",
       "</style>\n",
       "<table border=\"1\" class=\"dataframe\">\n",
       "  <thead>\n",
       "    <tr style=\"text-align: right;\">\n",
       "      <th></th>\n",
       "      <th>Year</th>\n",
       "      <th>Selling_Price</th>\n",
       "      <th>Present_Price</th>\n",
       "      <th>Kms_Driven</th>\n",
       "      <th>Owner</th>\n",
       "    </tr>\n",
       "  </thead>\n",
       "  <tbody>\n",
       "    <tr>\n",
       "      <th>count</th>\n",
       "      <td>301.000000</td>\n",
       "      <td>301.000000</td>\n",
       "      <td>301.000000</td>\n",
       "      <td>301.000000</td>\n",
       "      <td>301.000000</td>\n",
       "    </tr>\n",
       "    <tr>\n",
       "      <th>mean</th>\n",
       "      <td>2013.627907</td>\n",
       "      <td>4.661296</td>\n",
       "      <td>7.628472</td>\n",
       "      <td>36947.205980</td>\n",
       "      <td>0.043189</td>\n",
       "    </tr>\n",
       "    <tr>\n",
       "      <th>std</th>\n",
       "      <td>2.891554</td>\n",
       "      <td>5.082812</td>\n",
       "      <td>8.644115</td>\n",
       "      <td>38886.883882</td>\n",
       "      <td>0.247915</td>\n",
       "    </tr>\n",
       "    <tr>\n",
       "      <th>min</th>\n",
       "      <td>2003.000000</td>\n",
       "      <td>0.100000</td>\n",
       "      <td>0.320000</td>\n",
       "      <td>500.000000</td>\n",
       "      <td>0.000000</td>\n",
       "    </tr>\n",
       "    <tr>\n",
       "      <th>25%</th>\n",
       "      <td>2012.000000</td>\n",
       "      <td>0.900000</td>\n",
       "      <td>1.200000</td>\n",
       "      <td>15000.000000</td>\n",
       "      <td>0.000000</td>\n",
       "    </tr>\n",
       "    <tr>\n",
       "      <th>50%</th>\n",
       "      <td>2014.000000</td>\n",
       "      <td>3.600000</td>\n",
       "      <td>6.400000</td>\n",
       "      <td>32000.000000</td>\n",
       "      <td>0.000000</td>\n",
       "    </tr>\n",
       "    <tr>\n",
       "      <th>75%</th>\n",
       "      <td>2016.000000</td>\n",
       "      <td>6.000000</td>\n",
       "      <td>9.900000</td>\n",
       "      <td>48767.000000</td>\n",
       "      <td>0.000000</td>\n",
       "    </tr>\n",
       "    <tr>\n",
       "      <th>max</th>\n",
       "      <td>2018.000000</td>\n",
       "      <td>35.000000</td>\n",
       "      <td>92.600000</td>\n",
       "      <td>500000.000000</td>\n",
       "      <td>3.000000</td>\n",
       "    </tr>\n",
       "  </tbody>\n",
       "</table>\n",
       "</div>"
      ],
      "text/plain": [
       "              Year  Selling_Price  Present_Price     Kms_Driven       Owner\n",
       "count   301.000000     301.000000     301.000000     301.000000  301.000000\n",
       "mean   2013.627907       4.661296       7.628472   36947.205980    0.043189\n",
       "std       2.891554       5.082812       8.644115   38886.883882    0.247915\n",
       "min    2003.000000       0.100000       0.320000     500.000000    0.000000\n",
       "25%    2012.000000       0.900000       1.200000   15000.000000    0.000000\n",
       "50%    2014.000000       3.600000       6.400000   32000.000000    0.000000\n",
       "75%    2016.000000       6.000000       9.900000   48767.000000    0.000000\n",
       "max    2018.000000      35.000000      92.600000  500000.000000    3.000000"
      ]
     },
     "execution_count": 5,
     "metadata": {},
     "output_type": "execute_result"
    }
   ],
   "source": [
    "df.describe()"
   ]
  },
  {
   "cell_type": "code",
   "execution_count": 6,
   "metadata": {
    "execution": {
     "iopub.execute_input": "2020-12-21T20:34:27.017845Z",
     "iopub.status.busy": "2020-12-21T20:34:27.017151Z",
     "iopub.status.idle": "2020-12-21T20:34:27.046619Z",
     "shell.execute_reply": "2020-12-21T20:34:27.046004Z"
    },
    "papermill": {
     "duration": 0.066311,
     "end_time": "2020-12-21T20:34:27.046773",
     "exception": false,
     "start_time": "2020-12-21T20:34:26.980462",
     "status": "completed"
    },
    "tags": []
   },
   "outputs": [],
   "source": [
    "# Muunnetaan 'Year' auton iäksi olettaen, että data vuodelta 2020\n",
    "df['Age'] = 2020 - df['Year']\n",
    "df = df.drop('Year', axis = 1)"
   ]
  },
  {
   "cell_type": "code",
   "execution_count": 7,
   "metadata": {
    "execution": {
     "iopub.execute_input": "2020-12-21T20:34:29.904605Z",
     "iopub.status.busy": "2020-12-21T20:34:29.903927Z",
     "iopub.status.idle": "2020-12-21T20:34:29.911595Z",
     "shell.execute_reply": "2020-12-21T20:34:29.911035Z"
    },
    "papermill": {
     "duration": 0.054384,
     "end_time": "2020-12-21T20:34:29.911743",
     "exception": false,
     "start_time": "2020-12-21T20:34:29.857359",
     "status": "completed"
    },
    "tags": []
   },
   "outputs": [],
   "source": [
    "# Pudotetaan 'Car_Name' pois, koska sitä ei tarvita\n",
    "df = df.drop(labels = 'Car_Name', axis = 1)"
   ]
  },
  {
   "cell_type": "code",
   "execution_count": 8,
   "metadata": {
    "execution": {
     "iopub.execute_input": "2020-12-21T20:34:27.336959Z",
     "iopub.status.busy": "2020-12-21T20:34:27.336055Z",
     "iopub.status.idle": "2020-12-21T20:34:27.340512Z",
     "shell.execute_reply": "2020-12-21T20:34:27.341273Z"
    },
    "papermill": {
     "duration": 0.044954,
     "end_time": "2020-12-21T20:34:27.341447",
     "exception": false,
     "start_time": "2020-12-21T20:34:27.296493",
     "status": "completed"
    },
    "tags": []
   },
   "outputs": [
    {
     "data": {
      "text/plain": [
       "Index(['Selling_Price', 'Present_Price', 'Kms_Driven', 'Fuel_Type',\n",
       "       'Seller_Type', 'Transmission', 'Owner', 'Age'],\n",
       "      dtype='object')"
      ]
     },
     "execution_count": 8,
     "metadata": {},
     "output_type": "execute_result"
    }
   ],
   "source": [
    "df.columns"
   ]
  },
  {
   "cell_type": "code",
   "execution_count": 9,
   "metadata": {
    "execution": {
     "iopub.execute_input": "2020-12-21T20:34:27.420890Z",
     "iopub.status.busy": "2020-12-21T20:34:27.420146Z",
     "iopub.status.idle": "2020-12-21T20:34:27.911476Z",
     "shell.execute_reply": "2020-12-21T20:34:27.912093Z"
    },
    "papermill": {
     "duration": 0.535539,
     "end_time": "2020-12-21T20:34:27.912245",
     "exception": false,
     "start_time": "2020-12-21T20:34:27.376706",
     "status": "completed"
    },
    "tags": []
   },
   "outputs": [
    {
     "data": {
      "image/png": "[encoded data removed]",
      "text/plain": [
       "<Figure size 720x288 with 2 Axes>"
      ]
     },
     "metadata": {
      "needs_background": "light"
     },
     "output_type": "display_data"
    },
    {
     "data": {
      "image/png": "[encoded data removed]",
      "text/plain": [
       "<Figure size 720x288 with 2 Axes>"
      ]
     },
     "metadata": {
      "needs_background": "light"
     },
     "output_type": "display_data"
    }
   ],
   "source": [
    "# Kategoristen muuttujien jakaumat\n",
    "\n",
    "cat_cols = ['Fuel_Type', 'Seller_Type', 'Transmission', 'Owner']\n",
    "\n",
    "for i in range(0, 3, 2):\n",
    "    fig = plt.figure(figsize = (10, 4))\n",
    "    plt.subplot(1, 2, 1)\n",
    "    sns.countplot(x = cat_cols[i], data = df)\n",
    "    plt.subplot(1, 2, 2)\n",
    "    sns.countplot(x = cat_cols[i + 1], data = df)"
   ]
  },
  {
   "cell_type": "code",
   "execution_count": 10,
   "metadata": {
    "execution": {
     "iopub.execute_input": "2020-12-21T20:34:28.017958Z",
     "iopub.status.busy": "2020-12-21T20:34:28.013334Z",
     "iopub.status.idle": "2020-12-21T20:34:28.441624Z",
     "shell.execute_reply": "2020-12-21T20:34:28.440937Z"
    },
    "papermill": {
     "duration": 0.491483,
     "end_time": "2020-12-21T20:34:28.441768",
     "exception": false,
     "start_time": "2020-12-21T20:34:27.950285",
     "status": "completed"
    },
    "tags": []
   },
   "outputs": [
    {
     "data": {
      "image/png": "[encoded data removed]",
      "text/plain": [
       "<Figure size 936x216 with 2 Axes>"
      ]
     },
     "metadata": {
      "needs_background": "light"
     },
     "output_type": "display_data"
    },
    {
     "data": {
      "image/png": "[encoded data removed]",
      "text/plain": [
       "<Figure size 936x216 with 2 Axes>"
      ]
     },
     "metadata": {
      "needs_background": "light"
     },
     "output_type": "display_data"
    }
   ],
   "source": [
    "# Määrällisten muuttujien jakaumat\n",
    "\n",
    "num_cols = ['Selling_Price', 'Present_Price', 'Kms_Driven', 'Age']\n",
    "\n",
    "for i in range(0, 3, 2):\n",
    "    fig = plt.figure(figsize = (13, 3))\n",
    "    plt.subplot(1, 2, 1)\n",
    "    sns.boxplot(x = num_cols[i], data = df)\n",
    "    plt.subplot(1, 2, 2)\n",
    "    sns.boxplot(x = num_cols[i + 1], data = df)"
   ]
  },
  {
   "cell_type": "code",
   "execution_count": 11,
   "metadata": {
    "execution": {
     "iopub.execute_input": "2020-12-21T20:34:28.922361Z",
     "iopub.status.busy": "2020-12-21T20:34:28.921287Z",
     "iopub.status.idle": "2020-12-21T20:34:29.291196Z",
     "shell.execute_reply": "2020-12-21T20:34:29.291674Z"
    },
    "papermill": {
     "duration": 0.420676,
     "end_time": "2020-12-21T20:34:29.291858",
     "exception": false,
     "start_time": "2020-12-21T20:34:28.871182",
     "status": "completed"
    },
    "tags": []
   },
   "outputs": [
    {
     "data": {
      "text/plain": [
       "<AxesSubplot:>"
      ]
     },
     "execution_count": 11,
     "metadata": {},
     "output_type": "execute_result"
    },
    {
     "data": {
      "image/png": "[encoded data removed]",
      "text/plain": [
       "<Figure size 432x288 with 2 Axes>"
      ]
     },
     "metadata": {
      "needs_background": "light"
     },
     "output_type": "display_data"
    }
   ],
   "source": [
    "# Korrelaatiot\n",
    "sns.heatmap(df.corr(), annot = True)"
   ]
  },
  {
   "cell_type": "code",
   "execution_count": 12,
   "metadata": {
    "execution": {
     "iopub.execute_input": "2020-12-21T20:34:30.014145Z",
     "iopub.status.busy": "2020-12-21T20:34:30.013022Z",
     "iopub.status.idle": "2020-12-21T20:34:30.017768Z",
     "shell.execute_reply": "2020-12-21T20:34:30.017102Z"
    },
    "papermill": {
     "duration": 0.061072,
     "end_time": "2020-12-21T20:34:30.017883",
     "exception": false,
     "start_time": "2020-12-21T20:34:29.956811",
     "status": "completed"
    },
    "tags": []
   },
   "outputs": [
    {
     "data": {
      "text/html": [
       "<div>\n",
       "<style scoped>\n",
       "    .dataframe tbody tr th:only-of-type {\n",
       "        vertical-align: middle;\n",
       "    }\n",
       "\n",
       "    .dataframe tbody tr th {\n",
       "        vertical-align: top;\n",
       "    }\n",
       "\n",
       "    .dataframe thead th {\n",
       "        text-align: right;\n",
       "    }\n",
       "</style>\n",
       "<table border=\"1\" class=\"dataframe\">\n",
       "  <thead>\n",
       "    <tr style=\"text-align: right;\">\n",
       "      <th></th>\n",
       "      <th>Selling_Price</th>\n",
       "      <th>Present_Price</th>\n",
       "      <th>Kms_Driven</th>\n",
       "      <th>Fuel_Type</th>\n",
       "      <th>Seller_Type</th>\n",
       "      <th>Transmission</th>\n",
       "      <th>Owner</th>\n",
       "      <th>Age</th>\n",
       "    </tr>\n",
       "  </thead>\n",
       "  <tbody>\n",
       "    <tr>\n",
       "      <th>0</th>\n",
       "      <td>3.35</td>\n",
       "      <td>5.59</td>\n",
       "      <td>27000</td>\n",
       "      <td>Petrol</td>\n",
       "      <td>Dealer</td>\n",
       "      <td>Manual</td>\n",
       "      <td>0</td>\n",
       "      <td>6</td>\n",
       "    </tr>\n",
       "    <tr>\n",
       "      <th>1</th>\n",
       "      <td>4.75</td>\n",
       "      <td>9.54</td>\n",
       "      <td>43000</td>\n",
       "      <td>Diesel</td>\n",
       "      <td>Dealer</td>\n",
       "      <td>Manual</td>\n",
       "      <td>0</td>\n",
       "      <td>7</td>\n",
       "    </tr>\n",
       "    <tr>\n",
       "      <th>2</th>\n",
       "      <td>7.25</td>\n",
       "      <td>9.85</td>\n",
       "      <td>6900</td>\n",
       "      <td>Petrol</td>\n",
       "      <td>Dealer</td>\n",
       "      <td>Manual</td>\n",
       "      <td>0</td>\n",
       "      <td>3</td>\n",
       "    </tr>\n",
       "    <tr>\n",
       "      <th>3</th>\n",
       "      <td>2.85</td>\n",
       "      <td>4.15</td>\n",
       "      <td>5200</td>\n",
       "      <td>Petrol</td>\n",
       "      <td>Dealer</td>\n",
       "      <td>Manual</td>\n",
       "      <td>0</td>\n",
       "      <td>9</td>\n",
       "    </tr>\n",
       "    <tr>\n",
       "      <th>4</th>\n",
       "      <td>4.60</td>\n",
       "      <td>6.87</td>\n",
       "      <td>42450</td>\n",
       "      <td>Diesel</td>\n",
       "      <td>Dealer</td>\n",
       "      <td>Manual</td>\n",
       "      <td>0</td>\n",
       "      <td>6</td>\n",
       "    </tr>\n",
       "  </tbody>\n",
       "</table>\n",
       "</div>"
      ],
      "text/plain": [
       "   Selling_Price  Present_Price  Kms_Driven Fuel_Type Seller_Type  \\\n",
       "0           3.35           5.59       27000    Petrol      Dealer   \n",
       "1           4.75           9.54       43000    Diesel      Dealer   \n",
       "2           7.25           9.85        6900    Petrol      Dealer   \n",
       "3           2.85           4.15        5200    Petrol      Dealer   \n",
       "4           4.60           6.87       42450    Diesel      Dealer   \n",
       "\n",
       "  Transmission  Owner  Age  \n",
       "0       Manual      0    6  \n",
       "1       Manual      0    7  \n",
       "2       Manual      0    3  \n",
       "3       Manual      0    9  \n",
       "4       Manual      0    6  "
      ]
     },
     "execution_count": 12,
     "metadata": {},
     "output_type": "execute_result"
    }
   ],
   "source": [
    "df.head()"
   ]
  },
  {
   "cell_type": "code",
   "execution_count": 13,
   "metadata": {
    "execution": {
     "iopub.execute_input": "2020-12-21T20:34:30.115190Z",
     "iopub.status.busy": "2020-12-21T20:34:30.113105Z",
     "iopub.status.idle": "2020-12-21T20:34:30.122575Z",
     "shell.execute_reply": "2020-12-21T20:34:30.122000Z"
    },
    "papermill": {
     "duration": 0.060741,
     "end_time": "2020-12-21T20:34:30.122703",
     "exception": false,
     "start_time": "2020-12-21T20:34:30.061962",
     "status": "completed"
    },
    "tags": []
   },
   "outputs": [],
   "source": [
    "# Kategoriset muuttujat dummy-muuttujiksi\n",
    "df = pd.get_dummies(data = df, drop_first = True) "
   ]
  },
  {
   "cell_type": "code",
   "execution_count": 14,
   "metadata": {
    "execution": {
     "iopub.execute_input": "2020-12-21T20:34:30.216268Z",
     "iopub.status.busy": "2020-12-21T20:34:30.215233Z",
     "iopub.status.idle": "2020-12-21T20:34:30.228417Z",
     "shell.execute_reply": "2020-12-21T20:34:30.228951Z"
    },
    "papermill": {
     "duration": 0.061437,
     "end_time": "2020-12-21T20:34:30.229101",
     "exception": false,
     "start_time": "2020-12-21T20:34:30.167664",
     "status": "completed"
    },
    "tags": []
   },
   "outputs": [
    {
     "data": {
      "text/html": [
       "<div>\n",
       "<style scoped>\n",
       "    .dataframe tbody tr th:only-of-type {\n",
       "        vertical-align: middle;\n",
       "    }\n",
       "\n",
       "    .dataframe tbody tr th {\n",
       "        vertical-align: top;\n",
       "    }\n",
       "\n",
       "    .dataframe thead th {\n",
       "        text-align: right;\n",
       "    }\n",
       "</style>\n",
       "<table border=\"1\" class=\"dataframe\">\n",
       "  <thead>\n",
       "    <tr style=\"text-align: right;\">\n",
       "      <th></th>\n",
       "      <th>Selling_Price</th>\n",
       "      <th>Present_Price</th>\n",
       "      <th>Kms_Driven</th>\n",
       "      <th>Owner</th>\n",
       "      <th>Age</th>\n",
       "      <th>Fuel_Type_Diesel</th>\n",
       "      <th>Fuel_Type_Petrol</th>\n",
       "      <th>Seller_Type_Individual</th>\n",
       "      <th>Transmission_Manual</th>\n",
       "    </tr>\n",
       "  </thead>\n",
       "  <tbody>\n",
       "    <tr>\n",
       "      <th>0</th>\n",
       "      <td>3.35</td>\n",
       "      <td>5.59</td>\n",
       "      <td>27000</td>\n",
       "      <td>0</td>\n",
       "      <td>6</td>\n",
       "      <td>0</td>\n",
       "      <td>1</td>\n",
       "      <td>0</td>\n",
       "      <td>1</td>\n",
       "    </tr>\n",
       "    <tr>\n",
       "      <th>1</th>\n",
       "      <td>4.75</td>\n",
       "      <td>9.54</td>\n",
       "      <td>43000</td>\n",
       "      <td>0</td>\n",
       "      <td>7</td>\n",
       "      <td>1</td>\n",
       "      <td>0</td>\n",
       "      <td>0</td>\n",
       "      <td>1</td>\n",
       "    </tr>\n",
       "    <tr>\n",
       "      <th>2</th>\n",
       "      <td>7.25</td>\n",
       "      <td>9.85</td>\n",
       "      <td>6900</td>\n",
       "      <td>0</td>\n",
       "      <td>3</td>\n",
       "      <td>0</td>\n",
       "      <td>1</td>\n",
       "      <td>0</td>\n",
       "      <td>1</td>\n",
       "    </tr>\n",
       "    <tr>\n",
       "      <th>3</th>\n",
       "      <td>2.85</td>\n",
       "      <td>4.15</td>\n",
       "      <td>5200</td>\n",
       "      <td>0</td>\n",
       "      <td>9</td>\n",
       "      <td>0</td>\n",
       "      <td>1</td>\n",
       "      <td>0</td>\n",
       "      <td>1</td>\n",
       "    </tr>\n",
       "    <tr>\n",
       "      <th>4</th>\n",
       "      <td>4.60</td>\n",
       "      <td>6.87</td>\n",
       "      <td>42450</td>\n",
       "      <td>0</td>\n",
       "      <td>6</td>\n",
       "      <td>1</td>\n",
       "      <td>0</td>\n",
       "      <td>0</td>\n",
       "      <td>1</td>\n",
       "    </tr>\n",
       "  </tbody>\n",
       "</table>\n",
       "</div>"
      ],
      "text/plain": [
       "   Selling_Price  Present_Price  Kms_Driven  Owner  Age  Fuel_Type_Diesel  \\\n",
       "0           3.35           5.59       27000      0    6                 0   \n",
       "1           4.75           9.54       43000      0    7                 1   \n",
       "2           7.25           9.85        6900      0    3                 0   \n",
       "3           2.85           4.15        5200      0    9                 0   \n",
       "4           4.60           6.87       42450      0    6                 1   \n",
       "\n",
       "   Fuel_Type_Petrol  Seller_Type_Individual  Transmission_Manual  \n",
       "0                 1                       0                    1  \n",
       "1                 0                       0                    1  \n",
       "2                 1                       0                    1  \n",
       "3                 1                       0                    1  \n",
       "4                 0                       0                    1  "
      ]
     },
     "execution_count": 14,
     "metadata": {},
     "output_type": "execute_result"
    }
   ],
   "source": [
    "df.head()"
   ]
  },
  {
   "cell_type": "markdown",
   "metadata": {
    "papermill": {
     "duration": 0.04556,
     "end_time": "2020-12-21T20:34:30.319499",
     "exception": false,
     "start_time": "2020-12-21T20:34:30.273939",
     "status": "completed"
    },
    "tags": []
   },
   "source": [
    "## Jako opetus- ja testidataan"
   ]
  },
  {
   "cell_type": "code",
   "execution_count": 15,
   "metadata": {
    "execution": {
     "iopub.execute_input": "2020-12-21T20:34:30.416587Z",
     "iopub.status.busy": "2020-12-21T20:34:30.415568Z",
     "iopub.status.idle": "2020-12-21T20:34:30.421772Z",
     "shell.execute_reply": "2020-12-21T20:34:30.422305Z"
    },
    "papermill": {
     "duration": 0.05552,
     "end_time": "2020-12-21T20:34:30.422442",
     "exception": false,
     "start_time": "2020-12-21T20:34:30.366922",
     "status": "completed"
    },
    "tags": []
   },
   "outputs": [],
   "source": [
    "# Selittävät muuttujat\n",
    "X = df.drop('Selling_Price', axis = 1)\n",
    "\n",
    "# Selitettävä/ennustettava muuttuja\n",
    "y = df['Selling_Price']"
   ]
  },
  {
   "cell_type": "code",
   "execution_count": 16,
   "metadata": {
    "execution": {
     "iopub.execute_input": "2020-12-21T20:34:30.773046Z",
     "iopub.status.busy": "2020-12-21T20:34:30.771967Z",
     "iopub.status.idle": "2020-12-21T20:34:30.785738Z",
     "shell.execute_reply": "2020-12-21T20:34:30.786720Z"
    },
    "papermill": {
     "duration": 0.07607,
     "end_time": "2020-12-21T20:34:30.786978",
     "exception": false,
     "start_time": "2020-12-21T20:34:30.710908",
     "status": "completed"
    },
    "tags": []
   },
   "outputs": [],
   "source": [
    "# Jako opetus- ja testidataan\n",
    "X_train, X_test, y_train, y_test = train_test_split(X, y, random_state = 42)"
   ]
  },
  {
   "cell_type": "markdown",
   "metadata": {
    "papermill": {
     "duration": 0.045923,
     "end_time": "2020-12-21T20:34:30.883302",
     "exception": false,
     "start_time": "2020-12-21T20:34:30.837379",
     "status": "completed"
    },
    "tags": []
   },
   "source": [
    "## Mallit"
   ]
  },
  {
   "cell_type": "code",
   "execution_count": 17,
   "metadata": {
    "execution": {
     "iopub.execute_input": "2020-12-21T20:34:31.172080Z",
     "iopub.status.busy": "2020-12-21T20:34:31.171244Z",
     "iopub.status.idle": "2020-12-21T20:34:31.186866Z",
     "shell.execute_reply": "2020-12-21T20:34:31.187386Z"
    },
    "papermill": {
     "duration": 0.066241,
     "end_time": "2020-12-21T20:34:31.187643",
     "exception": false,
     "start_time": "2020-12-21T20:34:31.121402",
     "status": "completed"
    },
    "tags": []
   },
   "outputs": [],
   "source": [
    "# Funktio mallin sovittamiseen ja arviointiin\n",
    "\n",
    "R2_train = []\n",
    "R2_test = []\n",
    "\n",
    "def mallinna(malli):\n",
    "    \n",
    "    # Mallin sovitus opetusdataan\n",
    "    malli.fit(X_train, y_train)\n",
    "            \n",
    "    # Selityskerroin opetusdatalle\n",
    "    y_pred_train = malli.predict(X_train)\n",
    "    R2_train_malli = r2_score(y_train,y_pred_train)\n",
    "    R2_train.append(round(R2_train_malli,2))\n",
    "    \n",
    "    # Selityskerroin testidatalle\n",
    "    y_pred_test = malli.predict(X_test)\n",
    "    R2_test_malli = r2_score(y_test,y_pred_test)\n",
    "    R2_test.append(round(R2_test_malli,2))\n",
    "    \n",
    "    # Selityskertoimien tulostus\n",
    "    print(\"Opetusdatan selityskerroin :\",round(R2_train_malli,2))\n",
    "    print(\"Testidatan selityskerroin :\",round(R2_test_malli,2))\n",
    "       \n",
    "    # Opetusdatan virhetermit kaaviona\n",
    "    fig, ax = plt.subplots(1,2,figsize = (10,4))\n",
    "    ax[0].set_title('Ennustevirheiden jakauma opetusdatassa')\n",
    "    sns.histplot((y_train - y_pred_train), kde = True, ax = ax[0])\n",
    "    ax[0].set_xlabel('y_train - y_pred_train')\n",
    "    \n",
    "    # toteutuneet ja ennustetut hajontakaaviona testidatalle\n",
    "    ax[1].set_title('toteutuneet ja ennustetut testidatassa')\n",
    "    ax[1].scatter(x = y_test, y = y_pred_test)\n",
    "    ax[1].set_xlabel('toteutunut')\n",
    "    ax[1].set_ylabel('ennuste')"
   ]
  },
  {
   "cell_type": "markdown",
   "metadata": {
    "papermill": {
     "duration": 0.045748,
     "end_time": "2020-12-21T20:34:31.280392",
     "exception": false,
     "start_time": "2020-12-21T20:34:31.234644",
     "status": "completed"
    },
    "tags": []
   },
   "source": [
    "### Lineaarinen regressio"
   ]
  },
  {
   "cell_type": "code",
   "execution_count": 18,
   "metadata": {
    "execution": {
     "iopub.execute_input": "2020-12-21T20:34:31.378144Z",
     "iopub.status.busy": "2020-12-21T20:34:31.377469Z",
     "iopub.status.idle": "2020-12-21T20:34:31.862044Z",
     "shell.execute_reply": "2020-12-21T20:34:31.861308Z"
    },
    "papermill": {
     "duration": 0.535588,
     "end_time": "2020-12-21T20:34:31.862166",
     "exception": false,
     "start_time": "2020-12-21T20:34:31.326578",
     "status": "completed"
    },
    "tags": []
   },
   "outputs": [
    {
     "name": "stdout",
     "output_type": "stream",
     "text": [
      "Opetusdatan selityskerroin : 0.88\n",
      "Testidatan selityskerroin : 0.88\n"
     ]
    },
    {
     "data": {
      "image/png": "[encoded data removed]",
      "text/plain": [
       "<Figure size 720x288 with 2 Axes>"
      ]
     },
     "metadata": {
      "needs_background": "light"
     },
     "output_type": "display_data"
    }
   ],
   "source": [
    "malli = LinearRegression()\n",
    "mallinna(malli)"
   ]
  },
  {
   "cell_type": "markdown",
   "metadata": {
    "papermill": {
     "duration": 0.050885,
     "end_time": "2020-12-21T20:34:36.773959",
     "exception": false,
     "start_time": "2020-12-21T20:34:36.723074",
     "status": "completed"
    },
    "tags": []
   },
   "source": [
    "### Satunnaismetsä"
   ]
  },
  {
   "cell_type": "code",
   "execution_count": 19,
   "metadata": {
    "execution": {
     "iopub.execute_input": "2020-12-21T20:34:36.886215Z",
     "iopub.status.busy": "2020-12-21T20:34:36.885445Z",
     "iopub.status.idle": "2020-12-21T20:34:37.024691Z",
     "shell.execute_reply": "2020-12-21T20:34:37.023705Z"
    },
    "papermill": {
     "duration": 0.199623,
     "end_time": "2020-12-21T20:34:37.024843",
     "exception": false,
     "start_time": "2020-12-21T20:34:36.825220",
     "status": "completed"
    },
    "tags": []
   },
   "outputs": [
    {
     "name": "stdout",
     "output_type": "stream",
     "text": [
      "Opetusdatan selityskerroin : 0.98\n",
      "Testidatan selityskerroin : 0.96\n"
     ]
    },
    {
     "data": {
      "image/png": "[encoded data removed]",
      "text/plain": [
       "<Figure size 720x288 with 2 Axes>"
      ]
     },
     "metadata": {
      "needs_background": "light"
     },
     "output_type": "display_data"
    }
   ],
   "source": [
    "malli = RandomForestRegressor()\n",
    "mallinna(malli)"
   ]
  },
  {
   "cell_type": "markdown",
   "metadata": {
    "papermill": {
     "duration": 0.053049,
     "end_time": "2020-12-21T20:41:00.804511",
     "exception": false,
     "start_time": "2020-12-21T20:41:00.751462",
     "status": "completed"
    },
    "tags": []
   },
   "source": [
    "### Gradient Boosting"
   ]
  },
  {
   "cell_type": "code",
   "execution_count": 20,
   "metadata": {
    "execution": {
     "iopub.execute_input": "2020-12-21T20:41:00.924538Z",
     "iopub.status.busy": "2020-12-21T20:41:00.923630Z",
     "iopub.status.idle": "2020-12-21T20:41:00.926880Z",
     "shell.execute_reply": "2020-12-21T20:41:00.926321Z"
    },
    "papermill": {
     "duration": 0.067988,
     "end_time": "2020-12-21T20:41:00.926998",
     "exception": false,
     "start_time": "2020-12-21T20:41:00.859010",
     "status": "completed"
    },
    "tags": []
   },
   "outputs": [
    {
     "name": "stdout",
     "output_type": "stream",
     "text": [
      "Opetusdatan selityskerroin : 1.0\n",
      "Testidatan selityskerroin : 0.97\n"
     ]
    },
    {
     "data": {
      "image/png": "[encoded data removed]",
      "text/plain": [
       "<Figure size 720x288 with 2 Axes>"
      ]
     },
     "metadata": {
      "needs_background": "light"
     },
     "output_type": "display_data"
    }
   ],
   "source": [
    "malli = GradientBoostingRegressor()\n",
    "mallinna(malli)"
   ]
  },
  {
   "cell_type": "code",
   "execution_count": 21,
   "metadata": {
    "execution": {
     "iopub.execute_input": "2020-12-21T20:42:35.984547Z",
     "iopub.status.busy": "2020-12-21T20:42:35.983895Z",
     "iopub.status.idle": "2020-12-21T20:42:35.989297Z",
     "shell.execute_reply": "2020-12-21T20:42:35.988567Z"
    },
    "papermill": {
     "duration": 0.073901,
     "end_time": "2020-12-21T20:42:35.989408",
     "exception": false,
     "start_time": "2020-12-21T20:42:35.915507",
     "status": "completed"
    },
    "tags": []
   },
   "outputs": [
    {
     "data": {
      "text/html": [
       "<div>\n",
       "<style scoped>\n",
       "    .dataframe tbody tr th:only-of-type {\n",
       "        vertical-align: middle;\n",
       "    }\n",
       "\n",
       "    .dataframe tbody tr th {\n",
       "        vertical-align: top;\n",
       "    }\n",
       "\n",
       "    .dataframe thead th {\n",
       "        text-align: right;\n",
       "    }\n",
       "</style>\n",
       "<table border=\"1\" class=\"dataframe\">\n",
       "  <thead>\n",
       "    <tr style=\"text-align: right;\">\n",
       "      <th></th>\n",
       "      <th>Malli</th>\n",
       "      <th>Selityskerroin (opetusdata)</th>\n",
       "      <th>Selityskerroin (testidata)</th>\n",
       "    </tr>\n",
       "  </thead>\n",
       "  <tbody>\n",
       "    <tr>\n",
       "      <th>0</th>\n",
       "      <td>LinearRegression</td>\n",
       "      <td>0.88</td>\n",
       "      <td>0.88</td>\n",
       "    </tr>\n",
       "    <tr>\n",
       "      <th>1</th>\n",
       "      <td>RandomForestRegressor</td>\n",
       "      <td>0.98</td>\n",
       "      <td>0.96</td>\n",
       "    </tr>\n",
       "    <tr>\n",
       "      <th>2</th>\n",
       "      <td>GradientBoostingRegressor</td>\n",
       "      <td>1.00</td>\n",
       "      <td>0.97</td>\n",
       "    </tr>\n",
       "  </tbody>\n",
       "</table>\n",
       "</div>"
      ],
      "text/plain": [
       "                       Malli  Selityskerroin (opetusdata)  \\\n",
       "0           LinearRegression                         0.88   \n",
       "1      RandomForestRegressor                         0.98   \n",
       "2  GradientBoostingRegressor                         1.00   \n",
       "\n",
       "   Selityskerroin (testidata)  \n",
       "0                        0.88  \n",
       "1                        0.96  \n",
       "2                        0.97  "
      ]
     },
     "execution_count": 21,
     "metadata": {},
     "output_type": "execute_result"
    }
   ],
   "source": [
    "menetelmä = [\"LinearRegression\", \"RandomForestRegressor\", \"GradientBoostingRegressor\"]\n",
    "pd.DataFrame({'Malli': menetelmä, 'Selityskerroin (opetusdata)':R2_train, 'Selityskerroin (testidata)':R2_test})"
   ]
  }
 ],
 "metadata": {
  "kernelspec": {
   "display_name": "Python 3 (ipykernel)",
   "language": "python",
   "name": "python3"
  },
  "language_info": {
   "codemirror_mode": {
    "name": "ipython",
    "version": 3
   },
   "file_extension": ".py",
   "mimetype": "text/x-python",
   "name": "python",
   "nbconvert_exporter": "python",
   "pygments_lexer": "ipython3",
   "version": "3.9.7"
  },
  "papermill": {
   "duration": 496.115101,
   "end_time": "2020-12-21T20:42:36.266794",
   "environment_variables": {},
   "exception": null,
   "input_path": "__notebook__.ipynb",
   "output_path": "__notebook__.ipynb",
   "parameters": {},
   "start_time": "2020-12-21T20:34:20.151693",
   "version": "2.1.0"
  }
 },
 "nbformat": 4,
 "nbformat_minor": 4
}
